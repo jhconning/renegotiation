{
 "cells": [
  {
   "cell_type": "markdown",
   "metadata": {},
   "source": [
    "# Online Appendix\n",
    "###  \"Commitment costs: present-bias, consumer protection, and firm ownership forms\"\n",
    "#### Code to generate figures\n",
    "**Karna Basu and Jonathan Conning**\n",
    "\n",
    "Department of Economics, Hunter College and The Graduate Center, City University of New York\n",
    "\n",
    "Notes: new optimization"
   ]
  },
  {
   "cell_type": "code",
   "execution_count": 1,
   "metadata": {},
   "outputs": [
    {
     "name": "stdout",
     "output_type": "stream",
     "text": [
      "last updated: Wed Sep 11 2019 11:56:10\n"
     ]
    }
   ],
   "source": [
    "%reload_ext watermark\n",
    "%watermark -u -n -t "
   ]
  },
  {
   "cell_type": "markdown",
   "metadata": {},
   "source": [
    "**Abstract:** An empirical and theoretical literature has developed around models of procrastination and the struggle for self-control or resistance to present-bias or temptation. Following Laibson (1997) assumwconsumers are present-biased and have time inconsistent $\\beta-\\delta$ quasi-hyperbolic and preferences.  \n",
    "\n",
    "  This note describes the relatively simple mathematical and graphical analysis of the challenges facing a time-inconsistent in consumer attempting to smooth consumption over time. Because the sophisticated present-biased quasi-hyperbolic discounter anticipates the ways in which her future self will attempt to renegotiate or refinance the terms of a contract, she acts to choose the terms of the contract anticipating her latter-period self's best reaction. The equilibrium contract is found as the sub-game perfect Nash equilibrium of a Stackelberg game.  The equilibrium that the time-inconsistent consumer can achieve on her own will in general deliver less utility than if the period zero consumer could commit their latter selves to sticking to the the terms of the contract that the period zero self prefers.  This gives rise to the demand fr commitment services."
   ]
  },
  {
   "cell_type": "markdown",
   "metadata": {},
   "source": [
    "## Python Preliminaries\n",
    "\n",
    "Simulations and diagrams below were written in python.  "
   ]
  },
  {
   "cell_type": "code",
   "execution_count": 2,
   "metadata": {},
   "outputs": [],
   "source": [
    "%matplotlib inline\n",
    "import numpy as np\n",
    "import matplotlib.pyplot as plt\n",
    "import matplotlib.gridspec as gridspec\n",
    "from ipywidgets import interact,interact_manual, fixed\n",
    "plt.rcParams['figure.figsize'] = 10, 8\n",
    "np.set_printoptions(precision=2) "
   ]
  },
  {
   "cell_type": "markdown",
   "metadata": {},
   "source": [
    "## The model"
   ]
  },
  {
   "cell_type": "markdown",
   "metadata": {},
   "source": [
    "Consider the following simple workhorse three-period consumption smoothing model where consumers' preferences are summarized by constant relative risk aversion (CRRA) utility. In any period the consumer's instantaneous utility is given by $u(c)=c^{1-ρ}/(1-ρ)$.  Over three period the agent maximizes utility\n",
    "\n",
    "$$ U(c_0, c_1, c_2) =u(c_0) + \\beta [\\delta u(c_1) + \\delta^2 u(c_2)]$$ \n",
    "\n",
    "This is a version of the classic $\\beta-\\delta$ quasi-hyperbolic discounting model.  We assume the consumer has an autarky income stream ${y}=\\{y_{0},y_{1},y_{2}\\}$ which defines autarky or reservation utility $ \\overline{u}(y) = U(y₀,y₁,y₂)$ but in general will prefer a smoother consumption profile from contracting on financial markets. "
   ]
  },
  {
   "cell_type": "markdown",
   "metadata": {},
   "source": [
    "### Consumption smoothing with and without commitment services"
   ]
  },
  {
   "cell_type": "markdown",
   "metadata": {},
   "source": [
    "#### Competitive full-commitment\n",
    "Let's assume at first that financial intermediaries compete to offer a multiperiod contract and can -- at zero cost -- credibly commit to not renegotiate the terms of that contract. For the moment we also assume this contract to be enforceably exclusive in the sense that no other bank is allowed to offer a more attractive additional or alternative contract to the period 1 self.  We'll relax both assumptions shortly."
   ]
  },
  {
   "cell_type": "markdown",
   "metadata": {},
   "source": [
    "The offered contract will maximize the period-0 self's present value of utility $$ U(c_{0},c_{1},c_{2})=u(c_{0})+\\beta \\left[ \\delta u(c_{1})+\\delta ^{2}u(c_{2})\\right] $$\n",
    "subject to the bank's zero profit condition or, same thing, consumer budget constraint:\n",
    "\n",
    "$$\\sum\\limits_{t=0}^{2}\\frac{\\left( y_{t}-c_{t}\\right) }{\\left( 1+r\\right) ^{t}} = 0$$\n",
    "\n",
    "\n",
    "At the optimal contract $C^fc$ the consumer may save or borrow, depending on their initial income stream and preferred/feasible smoothed consumption stream available from contracting.  "
   ]
  },
  {
   "cell_type": "markdown",
   "metadata": {},
   "source": [
    "The first order conditions for an optimum are:\n",
    "\n",
    "$$u'(c_0) = \\beta \\delta (1+r) u'(c_1)$$\n",
    "\n",
    "$$u'(c_1) = \\delta (1+r) u'(c_2)$$"
   ]
  },
  {
   "cell_type": "markdown",
   "metadata": {},
   "source": [
    "The optimal contract will be the three period consumption profile that brings the consumer to the highest feasible iso-utility surface (analagous to an indifference curve except in 3 dimensins), and that will be at a point where the iso-utility surface is tangent to the zero-profit hyperplane that cuts through endowment point *$y$*  "
   ]
  },
  {
   "cell_type": "markdown",
   "metadata": {},
   "source": [
    "For the CRRA case these can be rewritten as:\n",
    "\n",
    "$$c_1 = c_2 = c_0 [ \\beta \\delta (1+r) ]^\\frac{1}{\\rho}$$"
   ]
  },
  {
   "cell_type": "markdown",
   "metadata": {},
   "source": [
    "WLOG assume that $\\delta = \\frac{1}{1+r}$ and $r=0$ and hence $\\delta = 1$. This simplifies the expressions without changing the essential tradeoffs.\n",
    "\n",
    "If we substitute the FOC $c_1=c_2$ into the consumer's binding budget constraint (the bank's zero profit condition) the problem can be reduced from three equation (two FOC and the zero profit condition) to two:\n",
    "\n",
    "$$c_1 = \\beta^\\frac{1}{\\rho} c_0$$\n",
    "\n",
    "$$ c_1 = \\frac{\\sum y - c_0}{2}$$"
   ]
  },
  {
   "cell_type": "markdown",
   "metadata": {},
   "source": [
    "The first equation highlight's the period-zero self's present bias --they want to consume more in period zer than in period one--  while the second summarizes that hey want to smooth whatever resources are left to future consumption equally between periods 1 and 2. "
   ]
  },
  {
   "cell_type": "markdown",
   "metadata": {},
   "source": [
    "The two dashed lines meet at point $(c_0^{fc}, c_1^{fc})$ in the rightmost quadrant.  \n",
    "\n",
    "The leftmost quadrant is in $c_1$ and $c_2$ space, turned on its side 90 degrees counterclockwise. The FOC condition ($c_1 = c_2$) is represented by a 45 degree line.  We can simply read off $c_2 = c_1$ from this line and the value of $c_1$ determined in the other quadrant, but we should also note that the point of intersection must also satisfy the budget constraint, namely that consumption in periods 1 and 2 cannot exceed the value of the endowment less period zero consumption. "
   ]
  },
  {
   "cell_type": "markdown",
   "metadata": {},
   "source": [
    "For the CRRA case it's easy to find closed form solutions:\n",
    "\n",
    "$$c_0^{fc} = \\frac{\\sum y}{1+2\\beta^\\frac{1}{\\rho}}$$\n",
    "$$c_1^{fc} = c_2^{fc} = \\beta^\\frac{1}{\\rho} c_0^{fc} $$"
   ]
  },
  {
   "cell_type": "markdown",
   "metadata": {},
   "source": [
    "### A simple numerical example (no present bias)\n",
    "\n",
    "Suppose the model parameters were as follows (and as all along $r=0$ and $\\delta=1$)"
   ]
  },
  {
   "cell_type": "code",
   "execution_count": 3,
   "metadata": {},
   "outputs": [],
   "source": [
    "beta = 0.5\n",
    "rho = 1.0\n",
    "Y = 300"
   ]
  },
  {
   "cell_type": "markdown",
   "metadata": {},
   "source": [
    "The following function solves for period zero's optimal 'perfect commitment contract' under competition using the equations above:"
   ]
  },
  {
   "cell_type": "code",
   "execution_count": 4,
   "metadata": {},
   "outputs": [],
   "source": [
    "def c0fc(beta=beta, rho=rho):\n",
    "    '''Perfect Commitment contract'''\n",
    "    btr = beta**(1/rho)\n",
    "    c0 = Y/(1+2*btr)\n",
    "    return c0, btr*c0, btr*c0"
   ]
  },
  {
   "cell_type": "markdown",
   "metadata": {},
   "source": [
    "The optimal contract for these parameters is "
   ]
  },
  {
   "cell_type": "code",
   "execution_count": 5,
   "metadata": {},
   "outputs": [
    {
     "data": {
      "text/plain": [
       "(150.0, 75.0, 75.0)"
      ]
     },
     "execution_count": 5,
     "metadata": {},
     "output_type": "execute_result"
    }
   ],
   "source": [
    "c0fc()"
   ]
  },
  {
   "cell_type": "markdown",
   "metadata": {},
   "source": [
    "#### Borrowing/repaying \n",
    "\n",
    "If the consumer had an income stream  $ y =(100, 100, 100)$ then we'd interpret this as a borrowing contract, as the period 0 consumer would want to borrow 50 in period zero andthen balance repayments between period 1 and 2."
   ]
  },
  {
   "cell_type": "code",
   "execution_count": 6,
   "metadata": {},
   "outputs": [
    {
     "data": {
      "text/plain": [
       "array([-50.,  25.,  25.])"
      ]
     },
     "execution_count": 6,
     "metadata": {},
     "output_type": "execute_result"
    }
   ],
   "source": [
    "[100, 100, 100] - np.array(c0fc())"
   ]
  },
  {
   "cell_type": "markdown",
   "metadata": {},
   "source": [
    "#### Saving/withdrawing\n",
    "\n",
    "If on the other hand the consumer had an income stream  $ y =(200, 50, 50)$ then we'd interpret this as a savings contrac, with the consumer saving 50 in period zero to be shared equally between period 1 and 2 consumption."
   ]
  },
  {
   "cell_type": "code",
   "execution_count": 7,
   "metadata": {},
   "outputs": [
    {
     "data": {
      "text/plain": [
       "array([ 50., -25., -25.])"
      ]
     },
     "execution_count": 7,
     "metadata": {},
     "output_type": "execute_result"
    }
   ],
   "source": [
    "[200, 50, 50] - np.array(c0fc())"
   ]
  },
  {
   "cell_type": "markdown",
   "metadata": {},
   "source": [
    "## Refinance and self-control"
   ]
  },
  {
   "cell_type": "markdown",
   "metadata": {},
   "source": [
    "We recast this slightly to focus on the role of savings.  Period 0 self (henceforth 'zero-self') chooses period zero savings $s_0$ (and by implication period 0 consumption $c_0 = y_0 - s_0$).  In period 1 his later 'one-self' reacts by choosing her own preferred period 1 savings $s_1$ (or, same thing $c_1$ and by implication $c_2$).  \n",
    "\n",
    "We need to find one-self's 'reaction function'.  They choose $c_1$ to maximize\n",
    "\n",
    "$$u(c_{1})+\\beta \\delta u(c_{2})$$\n",
    "\n",
    "subject to\n",
    "\n",
    "$$c_1(1+r)+c_2 =y_1 (1+r) +y_2+s_0 (1+r)^2$$"
   ]
  },
  {
   "cell_type": "markdown",
   "metadata": {},
   "source": [
    "The FOC give us\n",
    "\n",
    "$$u'(c_{1})=\\beta \\delta(1+r) {u'(c_2)} $$\n",
    "\n",
    "which for this CRRA case give us\n",
    "\n",
    "$$c_{2} = [\\beta \\delta (1+r) ]^\\frac{1}{\\rho} c_1$$\n",
    "\n",
    "Substituting this into the intertemporal budget constraint above we can solve for the reaction function:\n",
    "\n",
    "$$ c_1(s_{0} )= \\frac{s_0 (1+r)^2+y_1 (1+r) +y_2}\n",
    "{(1+r)+[ \\beta \\delta(1+r)]^\\frac{1}{\\rho} }\n",
    " $$"
   ]
  },
  {
   "cell_type": "markdown",
   "metadata": {},
   "source": [
    "Note that if $\\delta=\\frac{1}{1+r}$ and $r=0$ then this last expression simplifies to:\n",
    "    \n",
    "$$ c^1_1(s_{0} )= \\frac{s_0+y_1 +y_2}{1 + \\beta ^\\frac{1}{\\rho} }  $$\n",
    " \n",
    " Without loss of generality we will focus on this stripped down version of the expression."
   ]
  },
  {
   "cell_type": "markdown",
   "metadata": {},
   "source": [
    "Note that the zero-self wants each extra dollar of saving (or debt) $s_0$ that they pass on to period one that 1/2 of that dollar be for period 1 and the other half for period 2.  In other words they want\n",
    "\n",
    "$$\\frac{dc^0_1}{ds_0} = \\frac{dc_2}{ds_0} =\\frac{1}{2}$$\n",
    "\n",
    "But One-self instead prefers \n",
    "\n",
    "$$\\frac{dc^1_1}{ds_0} =\\frac{1}{1+\\beta^\\frac{1}{\\rho}} > \\frac{1}{2}$$\n",
    "and \n",
    "$$\\frac{dc^1_2}{ds_0} =\\frac{\\beta^\\frac{1}{\\rho}}{1+\\beta^\\frac{1}{\\rho}}<\\frac{1}{2}$$\n",
    "\n",
    "Zero-self will therefore act to strategically control how much savings is passed on, behaving much like a Stackelberg leader."
   ]
  },
  {
   "cell_type": "markdown",
   "metadata": {},
   "source": [
    "They choose $s_0$ to:\n",
    "    \n",
    "$$\\max u(y_0-s_{0})+\\beta \\left[ u(c^1_1(s_0))+u(c^1_2(s_0))\\right] $$"
   ]
  },
  {
   "cell_type": "markdown",
   "metadata": {},
   "source": [
    "Recall that One-self will always have $c_2^1 =\\beta^\\frac{1}{\\rho} c_1^1$ and also note that for the CRRA case we can write\n",
    "$u(\\beta^\\frac{1}{\\rho}c_1^1)=\\beta^\\frac{1-\\rho}{\\rho}u(c_1^1)$ \n",
    "so we can rewrite the objective as:\n",
    "\n",
    "$$\\max u(y_0-s_{0})+\\beta (1+\\beta^\\frac{1-\\rho}{\\rho}) u(c^1_1(s_0))$$"
   ]
  },
  {
   "cell_type": "markdown",
   "metadata": {},
   "source": [
    "The  FOC will therefore be:\n",
    "$$u'(y_0-s_0) = \\beta (1+\\beta^\\frac{1-\\rho}{\\rho}) u'(c_1^1(s_0)) \\frac{dc_1^1}{ds_0}$$"
   ]
  },
  {
   "cell_type": "markdown",
   "metadata": {},
   "source": [
    "$$u'(y_0-s_0) = \\frac{\\beta +\\beta^\\frac{1}{\\rho}}{1+\\beta^\\frac{1}{\\rho}} u'(c_1^1(s_0)) $$"
   ]
  },
  {
   "cell_type": "markdown",
   "metadata": {},
   "source": [
    "and after some substitutions and simplifications:\n",
    "$$(y_0-s_0)^{-\\rho}\n",
    "= \\frac{ \\beta+\\beta^\\frac{1}{\\rho}}{1+\\beta^\\frac{1}{\\rho}}\n",
    "(\\frac{s_0+y_1 +y_2}{1 + \\beta ^\\frac{1}{\\rho} })^{-\\rho} $$"
   ]
  },
  {
   "cell_type": "markdown",
   "metadata": {},
   "source": [
    "$$   \\frac{s_0+y_1 +y_2}{1 + \\beta ^\\frac{1}{\\rho} }\n",
    "= \\Lambda^\\frac{1}{\\rho}\n",
    "(y_0-s_0) $$\n",
    "\n",
    "where $\\Lambda = \\frac{\\beta +\\beta^\\frac{1}{\\rho}}{1+\\beta^\\frac{1}{\\rho}}$"
   ]
  },
  {
   "cell_type": "markdown",
   "metadata": {},
   "source": [
    "Or solving for  $c_0$ :\n",
    "\n",
    "$$c_0 = \\frac{\\sum y}{1+\\Lambda^\\frac{1}{\\rho}(1+\\beta^\\frac{1}{\\rho})} $$"
   ]
  },
  {
   "cell_type": "markdown",
   "metadata": {},
   "source": [
    "Note that we can compare period 0 consumption under this 'own smoothing' situation to the full commitment situation where we have shown that:\n",
    "\n",
    "$$c_0 = \\frac{\\sum y}{1+2\\beta^\\frac{1}{\\rho}} $$\n",
    "\n",
    "From which it's clear that savings is higher or lower depending on a comparison of the two denominators... Empirically however the difference in period 0 consumption seems very small... Most of the action is in terms of period 1 and 2 as the follownig shows."
   ]
  },
  {
   "cell_type": "markdown",
   "metadata": {},
   "source": [
    "### Visualized"
   ]
  },
  {
   "cell_type": "markdown",
   "metadata": {},
   "source": [
    "Here below the c0own is the present-bias optimum (without commitment)"
   ]
  },
  {
   "cell_type": "code",
   "execution_count": 8,
   "metadata": {},
   "outputs": [],
   "source": [
    "\n",
    "def c0own(beta=beta, rho=rho):\n",
    "    '''Own-smoothing contract'''\n",
    "    btr = beta**(1/rho)\n",
    "    lm = (beta + btr)/(1+btr)\n",
    "    c0 = Y/(1+(1+btr)*lm**(1/rho))\n",
    "    c1 = (Y-c0)/(1+btr)\n",
    "    c2 = btr*c1\n",
    "    return c0, c1, c2\n",
    "    \n",
    "    \n",
    "def plotC(rho=rho):\n",
    "    bt = np.linspace(0,1, 20)\n",
    "    fig, ax = plt.subplots(figsize=(7,6))\n",
    "    fig.suptitle(r'$\\rho$ = {}'.format(rho),fontsize=18)\n",
    "    c0F,c1F,c2F = c0fc(bt, rho)\n",
    "    c0o,c1o,c2o = c0own(bt, rho)\n",
    "    ax.plot(bt, c0F, 'b', label='c0F')\n",
    "    ax.plot(bt, c1F, 'r',  label='c1F = c2F')\n",
    "    #ax.plot(bt, c0F+c1F, color='orange', label='c0f+c1F')\n",
    "    ax.plot(bt, c0o,':', 'b', label='c0rp')\n",
    "    ax.plot(bt, c1o,':',label='c1rp', color = 'red')\n",
    "    #ax.plot(bt, c0o+c1o,'--',color='orange',label='c0rp+c1rp')\n",
    "    ax.plot(bt, c2o,'--', color='green', label='c2rp')\n",
    "    \n",
    "    ax.set_xlabel(r'$\\beta$', fontsize=16)\n",
    "    plt.grid()\n",
    "    ax.legend(loc='center left', bbox_to_anchor=(1, 0.6))\n",
    "    plt.show()\n",
    "    return"
   ]
  },
  {
   "cell_type": "code",
   "execution_count": 9,
   "metadata": {},
   "outputs": [
    {
     "data": {
      "text/plain": [
       "(0.5, 1.0)"
      ]
     },
     "execution_count": 9,
     "metadata": {},
     "output_type": "execute_result"
    }
   ],
   "source": [
    "beta, rho"
   ]
  },
  {
   "cell_type": "code",
   "execution_count": 10,
   "metadata": {},
   "outputs": [
    {
     "data": {
      "text/plain": [
       "(150.0, 75.0, 75.0)"
      ]
     },
     "execution_count": 10,
     "metadata": {},
     "output_type": "execute_result"
    }
   ],
   "source": [
    "c0fc(beta, rho)"
   ]
  },
  {
   "cell_type": "code",
   "execution_count": 11,
   "metadata": {},
   "outputs": [
    {
     "data": {
      "text/plain": [
       "(150.0, 100.0, 50.0)"
      ]
     },
     "execution_count": 11,
     "metadata": {},
     "output_type": "execute_result"
    }
   ],
   "source": [
    "c0own()"
   ]
  },
  {
   "cell_type": "code",
   "execution_count": 12,
   "metadata": {},
   "outputs": [
    {
     "data": {
      "application/vnd.jupyter.widget-view+json": {
       "model_id": "f7ceea9d99824c2cac44da6a7c3d2d21",
       "version_major": 2,
       "version_minor": 0
      },
      "text/plain": [
       "interactive(children=(FloatSlider(value=1.0, description='rho', max=3.0, min=0.1, step=0.05), Output()), _dom_…"
      ]
     },
     "metadata": {},
     "output_type": "display_data"
    }
   ],
   "source": [
    "interact(plotC,y0=(1,150,1),y1=(1,150,1),rho=(0.1,3,0.05));"
   ]
  },
  {
   "cell_type": "markdown",
   "metadata": {},
   "source": [
    "Observations:  \n",
    "- c0rp and c0F differ only for $\\rho$ quite different from 1\n",
    "- At $\\rho = 1$ c0 (and therefore c1+c2) do NOT change.  At $\\rho >1$ $c0$ is reduced (more is passed forward) and at $\\rho < 1$ $c0$ is increased (less is passed forward) but these effects are rather small.\n",
    "- not sure why a solid green c0rp legend is appearing!?"
   ]
  },
  {
   "cell_type": "markdown",
   "metadata": {},
   "source": [
    "## Best response function, and Stackelberg  (older approach)\n",
    "\n",
    "In this competitive case all that matters is $c_0$ as then $Y-c_0$ is passed forward."
   ]
  },
  {
   "cell_type": "code",
   "execution_count": 13,
   "metadata": {},
   "outputs": [],
   "source": [
    "def c1br(c0, beta=beta, rho=rho):\n",
    "    '''One-self's best response to Zero-self contract '''\n",
    "    btr = beta**(1/rho)\n",
    "    c11 = (Y - c0)/(1+btr)\n",
    "    c12 = btr*c11\n",
    "    return c0,c11,c12\n",
    "    \n",
    "    \n",
    "def C1BR(s, beta=beta, rho=rho):\n",
    "    '''One-self's best response to Zero-self contract \n",
    "    Implemented for resources s passed into c1-c2 space'''\n",
    "    btr = beta**(1/rho)\n",
    "    c11 = s/(1+btr)\n",
    "    c12 = btr*c11\n",
    "    return c11,c12\n",
    "\n",
    "\n",
    "# this is like c0own above\n",
    "\n",
    "def c0rp(beta=beta, rho=rho):\n",
    "    '''Zero's Stackelberg contract when kappa=0'''\n",
    "    btr = beta**(1/rho)\n",
    "    lam = (beta + btr)/(1+btr)\n",
    "    lmr = lam**(1/rho)\n",
    "    c00rp = Y/(1+(1+btr)*lmr)\n",
    "    c01rp = lmr*c00rp\n",
    "    c02rp = btr*c01rp\n",
    "    return c00rp, c01rp, c02rp \n",
    "\n"
   ]
  },
  {
   "cell_type": "code",
   "execution_count": 14,
   "metadata": {},
   "outputs": [
    {
     "data": {
      "text/plain": [
       "((150.0, 75.0, 75.0), (150.0, 100.0, 50.0), (150.0, 100.0, 50.0))"
      ]
     },
     "execution_count": 14,
     "metadata": {},
     "output_type": "execute_result"
    }
   ],
   "source": [
    "c0fc(), c0rp(), c0own()"
   ]
  },
  {
   "cell_type": "code",
   "execution_count": 15,
   "metadata": {},
   "outputs": [
    {
     "data": {
      "text/plain": [
       "(100.0, 50.0)"
      ]
     },
     "execution_count": 15,
     "metadata": {},
     "output_type": "execute_result"
    }
   ],
   "source": [
    "C1BR(Y-150)"
   ]
  },
  {
   "cell_type": "code",
   "execution_count": 16,
   "metadata": {},
   "outputs": [],
   "source": [
    "cc = np.linspace(0,300,300)"
   ]
  },
  {
   "cell_type": "code",
   "execution_count": 17,
   "metadata": {},
   "outputs": [],
   "source": [
    "cc = np.linspace(0,300, 100)\n",
    "btr = beta**(1/rho)\n",
    "lam = (beta + btr)/(1+btr)\n",
    "lmr = lam**(1/rho)"
   ]
  },
  {
   "cell_type": "markdown",
   "metadata": {},
   "source": [
    "## Two-quadrant plot"
   ]
  },
  {
   "cell_type": "code",
   "execution_count": 18,
   "metadata": {},
   "outputs": [],
   "source": [
    "def bdplot(beta=beta, rho=rho, fc = True, rp = True, figname='Figure'):\n",
    "    '''Plot two quadrant diagram representation. The flag fc and rp allow us to turn on\n",
    "    or supress full commit or '''\n",
    "    ymax = 200\n",
    "    aspect = 1\n",
    "    cfc = c0fc(beta=beta, rho=rho)\n",
    "    crp = c0rp(beta=beta, rho=rho)\n",
    "    fontsize = 18\n",
    "    \n",
    "    btr = beta**(1/rho)\n",
    "    lam = (beta + btr)/(1+btr)\n",
    "    lmr = lam**(1/rho)\n",
    "\n",
    "    fig = plt.figure(figsize=(10,8))\n",
    "    gs = gridspec.GridSpec(1, 2, width_ratios=[1, 2]) \n",
    "\n",
    "    ax0 = plt.subplot(gs[1])\n",
    "    ax0.set_title(r'$\\beta=$ {:2.1f} $\\rho=$ {:2.1f}'.format(beta, rho))\n",
    "    ax0.set_ylim(0, ymax)\n",
    "    ax0.yaxis.set_label_position(\"right\")\n",
    "    ax0.yaxis.tick_right()\n",
    "    ax0.set_xlabel(r'$c_0$', fontsize=fontsize)\n",
    "    ax0.set_ylabel(r'$c_1$', fontsize=fontsize)\n",
    "\n",
    "    ax1 = plt.subplot(gs[0])\n",
    "    ax1.yaxis.set_ticks_position('left')\n",
    "    ax1.xaxis.set_ticks_position('bottom')\n",
    "    ax1.yaxis.set_label_position('left')\n",
    "    ax1.set_ylabel(r'$c_1$', fontsize=fontsize)\n",
    "    ax1.set_title(r'$cfc=$ ({:3.1f}, {:3.1f}, {:3.1f})'.format(cfc[0],cfc[1],cfc[2]))\n",
    "    \n",
    "    if fc:\n",
    "        fcstyle = '--'\n",
    "        fccolor = 'r'\n",
    "        if fc and not rp:\n",
    "            linestyle = '-'\n",
    "        ax0.plot(cc, 0.5*(Y-cc),'r--', label='Zero FC future')\n",
    "        ax0.plot(cc, btr*cc, linestyle=fcstyle, color = fccolor, label='FC smooth')\n",
    "        ax0.plot(cfc[0],cfc[1], marker='o')\n",
    "        ax0.plot(cc, Y-cc, ':', label = 'Future net income')\n",
    "        ax1.plot(cc, (Y-cfc[0])-cc,'k-')\n",
    "        ax1.plot(cc, cc*btr**(-1),'b-')\n",
    "        ax1.plot(cc, cc,'r--')\n",
    "        ax1.plot(cfc[2], cfc[1],marker='o')\n",
    "        ax0.text(250, btr*230, r'$\\beta^\\frac{1}{\\rho}$', fontsize=15)\n",
    "        xx = [cfc[0]]\n",
    "        yy = [cfc[1]]\n",
    "        zz = [cfc[2]]\n",
    "        [ax0.plot([dot_c0, dot_c0], [0, dot_c1],':',linewidth = 1,color='black' ) for dot_c0, dot_c1 in zip(xx,yy) ] \n",
    "        [ax0.plot([0, dot_c0], [dot_c1, dot_c1],':',linewidth = 1,color='black' ) for dot_c0, dot_c1 in zip(xx,yy) ]\n",
    "        [ax0.plot([0, dot_c0], [dot_c1, dot_c1],':',linewidth = 1,color='black' ) for dot_c0, dot_c1 in zip(xx,yy) ]\n",
    "        [ax0.plot([dot_c0, dot_c0], [dot_c1, Y-dot_c0],':',linewidth = 1,color='black' ) for dot_c0, dot_c1 in zip(xx,yy) ]\n",
    "        [ax0.plot([dot_c0, 0], [Y-dot_c0, Y-dot_c0],':',linewidth = 1,color='black' ) for dot_c0, dot_c1 in zip(xx,yy) ]\n",
    "        [ax1.plot([dot_c2, dot_c2], [0, dot_c1],':',linewidth = 1,color='black' ) for dot_c1, dot_c2 in zip(yy,zz) ]\n",
    "        [ax1.plot([dot_c2,0], [dot_c1, dot_c1],':',linewidth = 1,color='black' ) for dot_c1, dot_c2 in zip(yy,zz) ]\n",
    "\n",
    "    if rp:\n",
    "        ax0.plot(cc, c1br(cc, beta, rho)[1],'b-', label = 'One BR')\n",
    "        ax0.plot(cc, lmr*cc,'b-', label='Stackelberg')\n",
    "        ax0.plot(crp[0],crp[1],marker='o')    \n",
    "        ax0.text(250, lmr*235, r'$\\Lambda^\\frac{1}{\\rho}$', fontsize=15)\n",
    "        ax1.plot(crp[2], crp[1],marker='o')\n",
    "        xx = [crp[0]]\n",
    "        yy = [crp[1]]\n",
    "        zz = [crp[2]]\n",
    "        [ax0.plot([dot_c0, dot_c0], [0, dot_c1],':',linewidth = 1,color='black' ) for dot_c0, dot_c1 in zip(xx,yy) ] \n",
    "        [ax0.plot([0, dot_c0], [dot_c1, dot_c1],':',linewidth = 1,color='black' ) for dot_c0, dot_c1 in zip(xx,yy) ]\n",
    "        [ax0.plot([0, dot_c0], [dot_c1, dot_c1],':',linewidth = 1,color='black' ) for dot_c0, dot_c1 in zip(xx,yy) ]\n",
    "        [ax0.plot([dot_c0, dot_c0], [dot_c1, Y-dot_c0],':',linewidth = 1,color='black' ) for dot_c0, dot_c1 in zip(xx,yy) ]\n",
    "        [ax0.plot([dot_c0, 0], [Y-dot_c0, Y-dot_c0],':',linewidth = 1,color='black' ) for dot_c0, dot_c1 in zip(xx,yy) ]\n",
    "        [ax1.plot([dot_c2, dot_c2], [0, dot_c1],':',linewidth = 1,color='black' ) for dot_c1, dot_c2 in zip(yy,zz) ]\n",
    "        [ax1.plot([dot_c2,0], [dot_c1, dot_c1],':',linewidth = 1,color='black' ) for dot_c1, dot_c2 in zip(yy,zz) ]\n",
    "\n",
    "    ax1.set_ylim(0,ymax)\n",
    "    ax1.set_xlim(0,150)\n",
    "    ax0.set_xlim(0,300)\n",
    "    ax1.invert_xaxis()\n",
    "    ax1.set_xlabel('$c_2$', fontsize=fontsize)\n",
    "\n",
    "    for side in ['right','top']:\n",
    "        ax0.spines[side].set_visible(False)\n",
    "        ax1.spines[side].set_visible(False)\n",
    "\n",
    "    #scaling and grid    \n",
    "    ax0.set_aspect(aspect)\n",
    "    ax1.set_aspect(1)\n",
    "    #ax0.grid()\n",
    "    #ax1.grid()\n",
    "\n",
    "    #ax0.text(20, 0.5*(Y-50), r'$\\frac{1}{2}\\sum (y-c_0)$', fontsize=14)\n",
    "    #ax0.text(20, (1/(1+btr))*(Y-30), r'$\\frac{1}{1+\\beta^\\frac{1}{\\rho}}\\sum (y-c_0)$', fontsize=14)\n",
    "\n",
    "    ax1.text(btr*150, 150,  r'$\\beta^\\frac{1}{\\rho}$', fontsize=15, rotation='vertical')\n",
    "\n",
    "\n",
    "    fig.subplots_adjust(wspace=0)\n",
    "    plt.show()\n",
    "    fig.savefig(figname+'.jpg', dpi=fig.dpi)\n",
    "    return"
   ]
  },
  {
   "cell_type": "markdown",
   "metadata": {},
   "source": [
    "**Efficient and renegotiation-proof contracts**\n",
    "\n",
    "Notes: With $\\kappa=0$ Zero will have to accomodate to One's desire to tilt the resources passed forward toward period 1 consumption.  \n",
    "- So now $\\frac{1}{1+\\beta^\\frac{1}{\\rho}}>\\frac{1}{2}$ of resources ($y-c_0$) passed forward are earmarked in the contract for $c_1$ (e.g. at $\\beta=0.5$ and $\\rho=1.0$ $\\frac{2}{3}$ rather than $\\frac{1}{2}$ of the 150 passed forward is for $c_1$.)\n",
    "- However Zero also now raises the share that they want for themselves from $\\beta^\\frac{1}{\\rho}$ to $\\Lambda^\\frac{1}{\\rho}$"
   ]
  },
  {
   "cell_type": "code",
   "execution_count": 19,
   "metadata": {},
   "outputs": [
    {
     "data": {
      "image/png": "[encoded data removed]",
      "text/plain": [
       "<Figure size 720x576 with 2 Axes>"
      ]
     },
     "metadata": {
      "needs_background": "light"
     },
     "output_type": "display_data"
    }
   ],
   "source": [
    "bdplot(fc=True, rp=True, figname='Figure1')"
   ]
  },
  {
   "cell_type": "code",
   "execution_count": 20,
   "metadata": {},
   "outputs": [
    {
     "data": {
      "application/vnd.jupyter.widget-view+json": {
       "model_id": "fd2f2cb28a5d4cab9aaddeea4710bf14",
       "version_major": 2,
       "version_minor": 0
      },
      "text/plain": [
       "interactive(children=(FloatSlider(value=0.5, description='beta', max=1.0, min=0.1), FloatSlider(value=1.0, des…"
      ]
     },
     "metadata": {},
     "output_type": "display_data"
    }
   ],
   "source": [
    "interact(bdplot,beta=(0.1,1,0.1),rho=(0.1,3,0.05));"
   ]
  },
  {
   "cell_type": "markdown",
   "metadata": {},
   "source": [
    "## Figures using the Contract module\n",
    "\n",
    "Code to provide a modular approach to solving contracts in the [Contract.py](Contract.py) module"
   ]
  },
  {
   "cell_type": "markdown",
   "metadata": {},
   "source": [
    "The following notebook magic makes ure the module is reloaded after every edit."
   ]
  },
  {
   "cell_type": "code",
   "execution_count": 21,
   "metadata": {},
   "outputs": [],
   "source": [
    "%load_ext autoreload\n",
    "%autoreload 2"
   ]
  },
  {
   "cell_type": "code",
   "execution_count": 22,
   "metadata": {},
   "outputs": [],
   "source": [
    "import Contract"
   ]
  },
  {
   "cell_type": "markdown",
   "metadata": {},
   "source": [
    "### Sample Competitive contracts\n",
    "\n",
    "We create an instance of a Competitive Contract.  This basically just loads up parameters.  We'll later solve for contracts with methods such as `.fcommit` "
   ]
  },
  {
   "cell_type": "code",
   "execution_count": 23,
   "metadata": {},
   "outputs": [
    {
     "name": "stdout",
     "output_type": "stream",
     "text": [
      "beta    : 0.6\n",
      "guess   : [100 100 100]\n",
      "kappa   : 0\n",
      "rho     : 1.2\n",
      "y       : [100 100 100]\n"
     ]
    }
   ],
   "source": [
    "cC = Contract.Competitive(beta = 0.6)\n",
    "cC.rho = 1.2\n",
    "cC.print_params()"
   ]
  },
  {
   "cell_type": "markdown",
   "metadata": {},
   "source": [
    "The threshold level renegotiation cost to sustain efficient contract:"
   ]
  },
  {
   "cell_type": "code",
   "execution_count": 24,
   "metadata": {},
   "outputs": [
    {
     "data": {
      "text/plain": [
       "4.43642366042653"
      ]
     },
     "execution_count": 24,
     "metadata": {},
     "output_type": "execute_result"
    }
   ],
   "source": [
    "cC.kbar()"
   ]
  },
  {
   "cell_type": "markdown",
   "metadata": {},
   "source": [
    "The efficient Competitive contract for these parameters."
   ]
  },
  {
   "cell_type": "code",
   "execution_count": 25,
   "metadata": {},
   "outputs": [
    {
     "data": {
      "text/plain": [
       "array([130.06,  84.97,  84.97])"
      ]
     },
     "execution_count": 25,
     "metadata": {},
     "output_type": "execute_result"
    }
   ],
   "source": [
    "cC.fcommit()"
   ]
  },
  {
   "cell_type": "markdown",
   "metadata": {},
   "source": [
    "The constrained optimal competitive contract when $\\kappa = 0$"
   ]
  },
  {
   "cell_type": "code",
   "execution_count": 26,
   "metadata": {},
   "outputs": [
    {
     "data": {
      "text/plain": [
       "array([129.73, 102.99,  67.28])"
      ]
     },
     "execution_count": 26,
     "metadata": {},
     "output_type": "execute_result"
    }
   ],
   "source": [
    "cC.kappa = 0\n",
    "cC.opt()"
   ]
  },
  {
   "cell_type": "markdown",
   "metadata": {},
   "source": [
    "Effect of raising $\\kappa$ on optimal contract"
   ]
  },
  {
   "cell_type": "code",
   "execution_count": 27,
   "metadata": {},
   "outputs": [
    {
     "data": {
      "text/plain": [
       "array([130.38,  94.25,  75.36])"
      ]
     },
     "execution_count": 27,
     "metadata": {},
     "output_type": "execute_result"
    }
   ],
   "source": [
    "cC.kappa = 1\n",
    "cC.opt()"
   ]
  },
  {
   "cell_type": "markdown",
   "metadata": {},
   "source": [
    "### Monopoly cases\n",
    "\n",
    "An instance of a Monopoly Contract class."
   ]
  },
  {
   "cell_type": "code",
   "execution_count": 28,
   "metadata": {},
   "outputs": [
    {
     "name": "stdout",
     "output_type": "stream",
     "text": [
      "beta    : 0.6\n",
      "guess   : [100 100 100]\n",
      "kappa   : 0\n",
      "rho     : 1.2\n",
      "y       : [100 100 100]\n"
     ]
    }
   ],
   "source": [
    "cM = Contract.Monopoly(beta=0.6)\n",
    "cM.rho = 1.2\n",
    "cM.print_params()"
   ]
  },
  {
   "cell_type": "markdown",
   "metadata": {},
   "source": [
    "The efficient Competitive contract for these parameters."
   ]
  },
  {
   "cell_type": "code",
   "execution_count": 29,
   "metadata": {},
   "outputs": [
    {
     "data": {
      "text/plain": [
       "array([126.7 ,  82.78,  82.78])"
      ]
     },
     "execution_count": 29,
     "metadata": {},
     "output_type": "execute_result"
    }
   ],
   "source": [
    "cM.fcommit()"
   ]
  },
  {
   "cell_type": "code",
   "execution_count": 30,
   "metadata": {},
   "outputs": [
    {
     "data": {
      "text/plain": [
       "4.3219284107549765"
      ]
     },
     "execution_count": 30,
     "metadata": {},
     "output_type": "execute_result"
    }
   ],
   "source": [
    "cM.kbar()"
   ]
  },
  {
   "cell_type": "code",
   "execution_count": 31,
   "metadata": {},
   "outputs": [
    {
     "data": {
      "text/plain": [
       "array([128.33, 101.88,  66.56])"
      ]
     },
     "execution_count": 31,
     "metadata": {},
     "output_type": "execute_result"
    }
   ],
   "source": [
    "cM.kappa = 0 \n",
    "cM.opt()"
   ]
  },
  {
   "cell_type": "markdown",
   "metadata": {},
   "source": [
    "#### Plotting functions"
   ]
  },
  {
   "cell_type": "markdown",
   "metadata": {},
   "source": [
    "Since several different plots share a basic axis labeling setup, it will be useful to set things up similarly with this function."
   ]
  },
  {
   "cell_type": "code",
   "execution_count": 32,
   "metadata": {},
   "outputs": [],
   "source": [
    "def fig_base(figsize=(9,9)):\n",
    "    fig, ax = plt.subplots(figsize=figsize)    \n",
    "    # plot range and clipped range (so indif curves not so wide)\n",
    "    c1min = 0\n",
    "    c1max = 140\n",
    "    c1 = np.arange(c1min,c1max,c1max/50)\n",
    "    c1_ = np.arange(0.2*c1max,c1max*0.8,c1max/50)\n",
    "    \n",
    "     # Aesthetics\n",
    "    ax.set_xlim(0,c1max)\n",
    "    ax.set_ylim(0,c1max*0.8)\n",
    "    ax.spines['right'].set_visible(False)\n",
    "    ax.spines['top'].set_visible(False)\n",
    "\n",
    "    #ax.axes.get_xaxis().set_visible(False)\n",
    "    #ax.set_xticklabels([])\n",
    "    #ax.set_yticklabels([])\n",
    "    ax.set_xlabel(r'$c_1$', fontsize=16)\n",
    "    ax.set_ylabel(r'$c_2$', fontsize=16)\n",
    "    ax.set_aspect('equal')\n",
    "    return ax"
   ]
  },
  {
   "cell_type": "code",
   "execution_count": 33,
   "metadata": {},
   "outputs": [
    {
     "data": {
      "image/png": "[encoded data removed]",
      "text/plain": [
       "<Figure size 648x648 with 1 Axes>"
      ]
     },
     "metadata": {
      "needs_background": "light"
     },
     "output_type": "display_data"
    }
   ],
   "source": [
    "fig_base();"
   ]
  },
  {
   "cell_type": "code",
   "execution_count": 34,
   "metadata": {},
   "outputs": [
    {
     "data": {
      "text/plain": [
       "(array([129.73, 102.99,  67.28]), array([129.73, 102.99,  67.28]))"
      ]
     },
     "execution_count": 34,
     "metadata": {},
     "output_type": "execute_result"
    }
   ],
   "source": [
    "cC.kappa=0\n",
    "cC.ownsmooth(), cC.opt()"
   ]
  },
  {
   "cell_type": "code",
   "execution_count": 35,
   "metadata": {},
   "outputs": [],
   "source": [
    "def fig1(comp=True, kap=0, beta=0.3, rho=0.9):\n",
    "    '''Plot contract diagrams based on model parameters'''\n",
    "    \n",
    "    ax = fig_base()   #draw and label axes \n",
    "    \n",
    "    if comp:\n",
    "        cC = Contract.Competitive(beta=beta) \n",
    "    else:\n",
    "        cC = Contract.Monopoly(beta=beta)\n",
    "    \n",
    "    cC.kappa, cC.beta, cC.rho = kap, beta, rho\n",
    "    cCF = cC.fcommit()\n",
    "    cCRP = cC.reneg(cCF)\n",
    "    copt = cC.opt()\n",
    "    \n",
    "    #indif curve plotting\n",
    "    c1min, c1max = 0, 140\n",
    "    c1 = np.arange(c1min,c1max,c1max/50)\n",
    "    c1_ = np.arange(0.2*c1max,c1max*0.8,c1max/50)\n",
    "    \n",
    "    def draw_indif(Cpt, beta, color='red'):  \n",
    "        ubar = cC.PVU(Cpt[1:3], beta)  \n",
    "        idc  = cC.indif(ubar, beta)            # as a function we'll use below\n",
    "\n",
    "        clipval = Cpt[1]*1.2     # for clipping the line   \n",
    "        c2_ = idc(c1_)          # Zero's indif through F\n",
    "        c2_ = np.where(c2_<clipval, c2_, np.nan)\n",
    "        ax.plot(c1_,c2_,color=color)\n",
    "        ax.scatter(Cpt[1], Cpt[2],color=color)\n",
    "    \n",
    "    #indifference curves functions\n",
    "    draw_indif(cCF, beta=1, color='red')   #zero's curve through F\n",
    "    draw_indif(copt, beta, color='blue')     #one's curve through P(kap)\n",
    "    \n",
    "    # rays from origin\n",
    "    ax.plot(c1, c1,':',color='black')\n",
    "    ax.plot(c1, cC.beta**(1/cC.rho)*c1,':',color='black')\n",
    "        \n",
    "    # isoprofit line(s)\n",
    "    isoprofline = cC.isoprofit(cC.profit(copt,cC.y)-(cC.y[0]-copt[0]), cC.y)\n",
    "    isoproflineK = cC.isoprofit(cC.profit(copt,cC.y)-(cC.y[0]-copt[0])+kap, cC.y)\n",
    "    ax.plot(c1,  isoprofline(c1),':' )\n",
    "    ax.plot(c1,  isoproflineK(c1),':' )\n",
    "    \n",
    "    # Labels and points\n",
    "    ax.text(cCF[1]-1, cCF[2]+3, r'$F$', fontsize=14)\n",
    "    ax.text(copt[1]-3, copt[2]-5, r'$P$', fontsize=14)\n",
    "    xx = [cCF[1], copt[1]]\n",
    "    yy = [cCF[2], copt[2]]\n",
    "    ax.scatter(xx, yy, s=50, marker='o',color='b')  \n",
    "    #ax.savefig('figs\\Figure1.pdf', format='pdf')\n",
    "    \n",
    "    #-- Intercept points on y axis\n",
    "\n",
    "    ax.text(cCF[1]+cCF[2] + 1, -4, r'$c_1^*+c_2^*$', fontsize=10)\n",
    "    ax.text(cCRP[1] + cCRP[2] - kap - 8, -4, r'$c_1^*+c_2^* -\\bar \\kappa$', fontsize=10)\n",
    "    ax.axes.get_xaxis().set_visible(False)\n",
    "    ax.axes.get_yaxis().set_visible(False)"
   ]
  },
  {
   "cell_type": "markdown",
   "metadata": {},
   "source": [
    "## Figure 1"
   ]
  },
  {
   "cell_type": "code",
   "execution_count": 36,
   "metadata": {},
   "outputs": [
    {
     "data": {
      "image/png": "[encoded data removed]",
      "text/plain": [
       "<Figure size 648x648 with 1 Axes>"
      ]
     },
     "metadata": {
      "needs_background": "light"
     },
     "output_type": "display_data"
    }
   ],
   "source": [
    "fig1(comp=True, kap=0, beta=0.3, rho=1.2)"
   ]
  },
  {
   "cell_type": "markdown",
   "metadata": {},
   "source": [
    "Interactive Figure 1"
   ]
  },
  {
   "cell_type": "code",
   "execution_count": 107,
   "metadata": {},
   "outputs": [
    {
     "data": {
      "application/vnd.jupyter.widget-view+json": {
       "model_id": "bb66c685cbbc4d2986913f337f1db05e",
       "version_major": 2,
       "version_minor": 0
      },
      "text/plain": [
       "interactive(children=(Dropdown(description='comp', options=(True, False), value=True), IntSlider(value=0, desc…"
      ]
     },
     "metadata": {},
     "output_type": "display_data"
    }
   ],
   "source": [
    "interact(fig1, comp=([True, False]), kap=(0,20,1), beta=(0.3,0.9,0.05), rho=(0.5,4,0.1));"
   ]
  },
  {
   "cell_type": "markdown",
   "metadata": {},
   "source": [
    "### The hybrid firm"
   ]
  },
  {
   "cell_type": "markdown",
   "metadata": {},
   "source": [
    "##Optimal contract when renegotiation cost $\\kappa $ >0"
   ]
  },
  {
   "cell_type": "markdown",
   "metadata": {},
   "source": [
    "Plot to explore how the renegotiation cost $\\kappa $ affects the terms of the contract and firm profits"
   ]
  },
  {
   "cell_type": "code",
   "execution_count": 48,
   "metadata": {},
   "outputs": [],
   "source": [
    "def kcost(comp=True, beta=0.3, rho=0.9):\n",
    "    if comp:\n",
    "        cC = Contract.Competitive(beta=beta) \n",
    "        label = 'Zero-self Utility'\n",
    "    else:\n",
    "        cC = Contract.Monopoly(beta=beta)\n",
    "        label = 'Monopoly Profit' \n",
    "    cC.rho = rho\n",
    "    cC.y = np.array([100,100,100]) \n",
    "    cCF = cC.fcommit()\n",
    "    num_pts = 50\n",
    "    kaps = np.linspace(0, 15, num_pts)      # different renegotiation cost values \n",
    "    cCRP, pvu0RP = np.zeros((3,num_pts)), np.zeros(num_pts)  # init (c0,c1,c2) and profits at each kappa\n",
    "\n",
    "    for i in range(0,num_pts):               # look through kappa recalculating optimal contract each time\n",
    "        cC.kappa = kaps[i] \n",
    "        cCRP[:,i] = cC.opt() \n",
    "        if comp:\n",
    "            pvu0RP[i] = cC.PVU(cCRP[:,i],cC.beta)\n",
    "        else:\n",
    "            pvu0RP[i] = sum(cC.y) - cC.PV(cCRP[:,i])\n",
    "        \n",
    "\n",
    "    c0,c1,c2 = cCRP[0,:], cCRP[1,:],cCRP[2,:]                # save results for plotting\n",
    "\n",
    "    fig, (ax0, ax1) = plt.subplots(2, 1,figsize=(10,8), squeeze=True)\n",
    "    ax0.plot(kaps, c1, label='$c_{1}$')\n",
    "    ax0.plot(kaps, c2, label='$c_{2}$')\n",
    "    ax0.plot(kaps, np.ones(num_pts)*cCF[1], '--', label='$c_{F}$')\n",
    "    ax0.grid()\n",
    "    ax0.set_title('Reneg-Proof Contract, ' + label +' and $\\kappa$', fontsize=16) \n",
    "    ax0.set_ylabel('consumption')\n",
    "    #ax0.set_ylim(30,95)\n",
    "    ax0.legend()\n",
    "\n",
    "    ax1.plot(kaps, pvu0RP)\n",
    "    ax1.set_ylabel(label)\n",
    "    ax1.grid()\n",
    "    ax1.set_xlabel('renegotiation cost $\\kappa$')\n",
    "    pvumin,pvumax = min(pvu0RP), max(pvu0RP)\n",
    "    plt.ylim((pvumin, pvumax))\n",
    "    plt.show()\n",
    "    return c0"
   ]
  },
  {
   "cell_type": "markdown",
   "metadata": {},
   "source": [
    "Note this plots but also returns c0 which we'll use for plotting below."
   ]
  },
  {
   "cell_type": "code",
   "execution_count": 49,
   "metadata": {},
   "outputs": [
    {
     "data": {
      "image/png": "[encoded data removed]",
      "text/plain": [
       "<Figure size 720x576 with 2 Axes>"
      ]
     },
     "metadata": {
      "needs_background": "light"
     },
     "output_type": "display_data"
    }
   ],
   "source": [
    "c0 = kcost(comp=True, beta=0.3, rho=0.9)"
   ]
  },
  {
   "cell_type": "code",
   "execution_count": 50,
   "metadata": {},
   "outputs": [
    {
     "data": {
      "application/vnd.jupyter.widget-view+json": {
       "model_id": "c52594b4d81240e5a53aebea6c58631f",
       "version_major": 2,
       "version_minor": 0
      },
      "text/plain": [
       "interactive(children=(Dropdown(description='comp', options=(True, False), value=True), FloatSlider(value=0.3, …"
      ]
     },
     "metadata": {},
     "output_type": "display_data"
    }
   ],
   "source": [
    "interact(kcost, comp=([True, False]),  beta=(0.3,0.9,0.05), rho=(0.5,4,0.1));"
   ]
  },
  {
   "cell_type": "markdown",
   "metadata": {},
   "source": [
    "At lower renegotiation costs the bank is forced to offer less consumption smoothing in periods 1 and 2 as a way to credibly commit to limit their gains to renegotiation with a period 1 self.  Hence bank profits rise with their ability to commit to incur a renegotiation cost $\\kappa$\n",
    "\n",
    "We haven't plotted $c_{0}$ for each $\\kappa$ but that's because it varies less relative to $c_{1}, c_{2}$ and way above the full commitment consumption smoothing. The following shows a non-monotonic relation though ws should remember this is varying very little."
   ]
  },
  {
   "cell_type": "code",
   "execution_count": 51,
   "metadata": {},
   "outputs": [
    {
     "data": {
      "image/png": "[encoded data removed]",
      "text/plain": [
       "<Figure size 432x288 with 1 Axes>"
      ]
     },
     "metadata": {
      "needs_background": "light"
     },
     "output_type": "display_data"
    }
   ],
   "source": [
    "# remember we loaded c0 above\n",
    "kaps = np.linspace(0, 15, 50)\n",
    "plt.plot(kaps, c0) \n",
    "plt.ylim((min(c0), max(c0)))\n",
    "plt.xlabel('renegotiation cost $\\kappa$')\n",
    "plt.ylabel(r'$c_0$', fontsize=14)\n",
    "plt.grid()\n"
   ]
  },
  {
   "cell_type": "markdown",
   "metadata": {},
   "source": [
    "### The choice to become a commercial non-profit"
   ]
  },
  {
   "cell_type": "markdown",
   "metadata": {},
   "source": [
    "### Modeling the non-profit"
   ]
  },
  {
   "cell_type": "markdown",
   "metadata": {},
   "source": [
    "The no-renegotiation constraint has two parts.  A pure for-profit captures fraction $\\alpha = 1$ of profits and faces renegotiation cost \n",
    "not-for-profit of type $\\alpha$ and faces renegotiation cost $h(\\alpha) = h(1)$.  More generally a non-profit of type $\\alpha$ has a no-renegotiation constraint of the form \n",
    "$$\\alpha \\left[ \\Pi ^{R}-\\Pi \\right] \\geq h(\\alpha )$$\n",
    "\n",
    "To be specific here let's model this as \n",
    "$$h(\\alpha )=\\kappa \\left( 1-\\alpha \\right) $$\n",
    "\n",
    "So that at $\\alpha =1$ there is no cost to renegotiation and at $0< \\alpha <1$ there is a non-negative non-pecuniary cost of up to $\\kappa$.  The constraint can then be written as \n",
    "$$\\left[ \\Pi ^{R}-\\Pi \\right] \\geq C(\\alpha )=\\frac{h(\\alpha )}{\\alpha }$$"
   ]
  },
  {
   "cell_type": "markdown",
   "metadata": {},
   "source": [
    "Now similar to above but solve for contract as a function of firm type $alpha$"
   ]
  },
  {
   "cell_type": "code",
   "execution_count": 85,
   "metadata": {},
   "outputs": [],
   "source": [
    "def alpha_plot(comp=True, beta=0.5, rho=0.9, y0=100):\n",
    "    fig3 = plt.figure() \n",
    "    if comp:\n",
    "        cC = Contract.Competitive(beta=beta) \n",
    "    else:\n",
    "        cC = Contract.Monopoly(beta=beta)\n",
    "        \n",
    "    y = np.array([y0, (300-y0)/2,(300-y0)/2])          # To see how endowment affects contract\n",
    "    cC.y     = y\n",
    "    print(f'autarky income = {y}')\n",
    "        \n",
    "    cC.rho   = rho\n",
    "    cCF      = cC.fcommit()\n",
    "    num_pts  = 50\n",
    "    alphs    = np.linspace(0.0,1.0, num_pts)   # iterate over different values of beta\n",
    "    HA       = 10*(np.ones(num_pts) - alphs)   #  h(alpha)/alpha  or cost of renegotiaton\n",
    "    cCRP     = np.zeros((3,num_pts))          # matrix for storing (c0,c1,c2) at each kappa\n",
    "    pvu0RP   = np.zeros(num_pts)           #PVU0 when contracting with alpha=1 firm\n",
    "\n",
    "    for i in range(0, num_pts):\n",
    "        cC.kappa = HA[i]                 # change optimal contract\n",
    "        cCRP[:,i] = cC.opt() \n",
    "        pvu0RP[i] = cC.PVU(cCRP[:,i], cC.beta)\n",
    "\n",
    "    #last entry (kappa=0) tells us what a 'pure profit' would earn\n",
    "    pvu0RP_pure = pvu0RP[-1]\n",
    "\n",
    "    c0,c1,c2 = cCRP[0,:], cCRP[1,:],cCRP[2,:]                # save results for plotting\n",
    "\n",
    "    fig3 = plt.figure()  \n",
    "    plt.plot(alphs,c1,'--',label='$c_{1}$')\n",
    "    plt.plot(alphs,c2,label='$c_{2}$')\n",
    "    plt.plot(alphs,np.ones(num_pts)*cCF[1],label='$c_{1}$ commit')\n",
    "    plt.grid()\n",
    "    plt.title('Renegotiation Proof Contract and alpha' )\n",
    "    plt.xlabel('alpha ')\n",
    "    plt.ylabel('consumption')\n",
    "    plt.legend(loc='best', bbox_to_anchor=(1,0.75))\n",
    "    plt.ylim(0,100)\n",
    "    plt.show()"
   ]
  },
  {
   "cell_type": "code",
   "execution_count": 84,
   "metadata": {},
   "outputs": [
    {
     "name": "stdout",
     "output_type": "stream",
     "text": [
      "autarky income = [100. 100. 100.]\n"
     ]
    },
    {
     "data": {
      "image/png": "[encoded data removed]",
      "text/plain": [
       "<Figure size 432x288 with 1 Axes>"
      ]
     },
     "metadata": {
      "needs_background": "light"
     },
     "output_type": "display_data"
    }
   ],
   "source": [
    "alpha_plot(comp=False, beta=0.5, rho=1.2, y0=100)"
   ]
  },
  {
   "cell_type": "code",
   "execution_count": 56,
   "metadata": {},
   "outputs": [
    {
     "data": {
      "application/vnd.jupyter.widget-view+json": {
       "model_id": "efe379388dfc404ab85cf3d3cc7102dc",
       "version_major": 2,
       "version_minor": 0
      },
      "text/plain": [
       "interactive(children=(Dropdown(description='comp', options=(True, False), value=True), FloatSlider(value=0.5, …"
      ]
     },
     "metadata": {},
     "output_type": "display_data"
    }
   ],
   "source": [
    "interact(alpha_plot, comp=([True, False]),  beta=(0.3,0.9,0.05), rho=(0.5,4,0.1), y0=(0,200,10));"
   ]
  },
  {
   "cell_type": "markdown",
   "metadata": {},
   "source": [
    "### 'Commercial' non-profits \n",
    "A 'pure' for profit (with $\\alpha$=1.0) earns a reduced (possibly negative) profit due to it's inability to commit. Seen in the plot as profits the height of the horizontal line.\n",
    "\n",
    "Any non-profit with $\\alpha$ above about 0.4 and below 1.0 can better commit to not renegotiate a larger set of contracts and therefore can offer a more profitable renegotiation-proof contract. Even though they capture only fraction $\\alpha$ of those profits, the take home profits exceed the profits of the pure for-profit. "
   ]
  },
  {
   "cell_type": "code",
   "execution_count": 177,
   "metadata": {},
   "outputs": [],
   "source": [
    "def hybrid_plot(beta=0.5, rho=0.9, y0=100):\n",
    "\n",
    "    cC = Contract.Monopoly(beta=beta)\n",
    "        \n",
    "    y = np.array([y0, (300-y0)/2,(300-y0)/2])          # To see how endowment affects contract\n",
    "    cC.y     = y\n",
    "    print(f'autarky income = {y}')\n",
    "        \n",
    "    cC.rho   = rho\n",
    "    cCF      = cC.fcommit()\n",
    "    num_pts  = 50\n",
    "    alphs    = np.linspace(0.0,1.0, num_pts)   # iterate over different values of beta\n",
    "    HA       = 10*(np.ones(num_pts) - alphs)   #  h(alpha)/alpha  or cost of renegotiaton\n",
    "    cCRP     = np.zeros((3,num_pts))          # matrix for storing (c0,c1,c2) at each kappa\n",
    "    value_hybrid = np.zeros(num_pts)           #PVU0 when contracting with alpha=1 firm\n",
    "    value_raw = np.ones(num_pts)\n",
    "    zero_profit = np.zeros(num_pts)\n",
    "\n",
    "    \n",
    "    for i in range(0,num_pts):               # look through kappa recalculating optimal contract each time\n",
    "        cC.kappa = HA[i] \n",
    "        cCRP[:,i] = cC.opt() \n",
    "        value_raw[i] = sum(cC.y) - cC.PV(cCRP[:,i])   # raw profits \n",
    "        value_hybrid[i] = value_raw[i] * alphs[i]\n",
    "\n",
    "    value_pure = value_hybrid[-1]*np.ones(num_pts)\n",
    "    \n",
    "    fig = plt.figure()\n",
    "    ax = fig.add_subplot(111)\n",
    "    plt.suptitle('Captured profits for hybrid firms and pure-profit firms')\n",
    "    plt.title('as a function of '+r'$\\alpha$' )\n",
    "    plt.xlabel(r'type of firm $ \\alpha$')\n",
    "    plt.ylabel('Captured profits')\n",
    "    plt.plot(alphs, value_pure,'--', label='pure for-profit')\n",
    "    plt.plot(alphs, value_hybrid, label='hybrid captured profit')\n",
    "    plt.plot(alphs, value_raw,label='raw profit')\n",
    "    plt.plot(alphs, zero_profit, linestyle=':', label='zero-profit line')\n",
    "    \n",
    "    wh = (value_hybrid>=value_pure) & (value_hybrid>=zero_profit )\n",
    "    #ax.fill_between(alphs, value_hybrid, value_pure, where=wh, hatch='/')\n",
    "    ax.fill_between(alphs, np.fmax(value_hybrid, value_pure), \n",
    "                           np.fmax(value_pure,zero_profit), where=wh, hatch='/')\n",
    "    plt.legend(loc='best', bbox_to_anchor=(1,0.75))\n",
    "    plt.show()"
   ]
  },
  {
   "cell_type": "code",
   "execution_count": 178,
   "metadata": {},
   "outputs": [
    {
     "name": "stdout",
     "output_type": "stream",
     "text": [
      "autarky income = [100. 100. 100.]\n"
     ]
    },
    {
     "data": {
      "image/png": "[encoded data removed]",
      "text/plain": [
       "<Figure size 432x288 with 1 Axes>"
      ]
     },
     "metadata": {
      "needs_background": "light"
     },
     "output_type": "display_data"
    }
   ],
   "source": [
    "hybrid_plot(beta=0.5, rho=0.9, y0=100)"
   ]
  },
  {
   "cell_type": "code",
   "execution_count": 180,
   "metadata": {},
   "outputs": [
    {
     "data": {
      "application/vnd.jupyter.widget-view+json": {
       "model_id": "fc798a8aa57b482bb333ccc2237a78b6",
       "version_major": 2,
       "version_minor": 0
      },
      "text/plain": [
       "interactive(children=(FloatSlider(value=0.5, description='beta', max=0.9, min=0.3, step=0.05), FloatSlider(val…"
      ]
     },
     "metadata": {},
     "output_type": "display_data"
    }
   ],
   "source": [
    "interact(hybrid_plot, comp=fixed(False),  beta=(0.3,0.9,0.05), rho=(0.5,4,0.1), y0=(0,200,5));"
   ]
  },
  {
   "cell_type": "code",
   "execution_count": null,
   "metadata": {},
   "outputs": [],
   "source": []
  }
 ],
 "metadata": {
  "kernelspec": {
   "display_name": "Python 3",
   "language": "python",
   "name": "python3"
  },
  "language_info": {
   "codemirror_mode": {
    "name": "ipython",
    "version": 3
   },
   "file_extension": ".py",
   "mimetype": "text/x-python",
   "name": "python",
   "nbconvert_exporter": "python",
   "pygments_lexer": "ipython3",
   "version": "3.7.3"
  },
  "varInspector": {
   "cols": {
    "lenName": 16,
    "lenType": 16,
    "lenVar": 40
   },
   "kernels_config": {
    "python": {
     "delete_cmd_postfix": "",
     "delete_cmd_prefix": "del ",
     "library": "var_list.py",
     "varRefreshCmd": "print(var_dic_list())"
    },
    "r": {
     "delete_cmd_postfix": ") ",
     "delete_cmd_prefix": "rm(",
     "library": "var_list.r",
     "varRefreshCmd": "cat(var_dic_list()) "
    }
   },
   "types_to_exclude": [
    "module",
    "function",
    "builtin_function_or_method",
    "instance",
    "_Feature"
   ],
   "window_display": false
  },
  "widgets": {
   "application/vnd.jupyter.widget-state+json": {
    "state": {
     "007ee3f9f8cf48d38bb63106d132e2a5": {
      "model_module": "@jupyter-widgets/controls",
      "model_module_version": "1.5.0",
      "model_name": "IntSliderModel",
      "state": {
       "description": "y0",
       "layout": "IPY_MODEL_1081b95280e849e28eff778ec152aaf3",
       "max": 200,
       "step": 10,
       "style": "IPY_MODEL_cceea17d9366498ab3825a4077810884",
       "value": 100
      }
     },
     "00d8d00098e449dfa461b19ffc04cf2a": {
      "model_module": "@jupyter-widgets/controls",
      "model_module_version": "1.5.0",
      "model_name": "DescriptionStyleModel",
      "state": {
       "description_width": ""
      }
     },
     "018057f79fc94b85ab0931d40b444ede": {
      "model_module": "@jupyter-widgets/base",
      "model_module_version": "1.2.0",
      "model_name": "LayoutModel",
      "state": {}
     },
     "01d0c28e1508413cb134573ff1523267": {
      "model_module": "@jupyter-widgets/controls",
      "model_module_version": "1.5.0",
      "model_name": "SliderStyleModel",
      "state": {
       "description_width": ""
      }
     },
     "0217878333d444ce92d5290cf4b47289": {
      "model_module": "@jupyter-widgets/controls",
      "model_module_version": "1.5.0",
      "model_name": "DropdownModel",
      "state": {
       "_options_labels": [
        "True",
        "False"
       ],
       "description": "comp",
       "index": 0,
       "layout": "IPY_MODEL_e656fe03cb2e47c6b6bc9d68e5818c3e",
       "style": "IPY_MODEL_34f4cbd3dffb4a8b84966101db63101e"
      }
     },
     "021cf74db5374ec5858d6936dee73b2d": {
      "model_module": "@jupyter-widgets/controls",
      "model_module_version": "1.5.0",
      "model_name": "DescriptionStyleModel",
      "state": {
       "description_width": ""
      }
     },
     "03e9d5c149304edfaaefd868068c67d0": {
      "model_module": "@jupyter-widgets/base",
      "model_module_version": "1.2.0",
      "model_name": "LayoutModel",
      "state": {}
     },
     "05e79296d66b459c96faf4db6ef7d4d3": {
      "model_module": "@jupyter-widgets/controls",
      "model_module_version": "1.5.0",
      "model_name": "FloatSliderModel",
      "state": {
       "description": "beta",
       "layout": "IPY_MODEL_899e10790bae4c17bc17ff57de8d66a7",
       "max": 0.9,
       "min": 0.3,
       "step": 0.05,
       "style": "IPY_MODEL_a55336fb01ec44049bfd83943bcf9b7f",
       "value": 0.5
      }
     },
     "087d3b5208214770aceebb7d41e981e9": {
      "model_module": "@jupyter-widgets/controls",
      "model_module_version": "1.5.0",
      "model_name": "SliderStyleModel",
      "state": {
       "description_width": ""
      }
     },
     "09890dd3384c45fb94bb6a50cd795b14": {
      "model_module": "@jupyter-widgets/output",
      "model_module_version": "1.0.0",
      "model_name": "OutputModel",
      "state": {
       "layout": "IPY_MODEL_307933c9fdc14624ac6e0e0097593f0c",
       "outputs": [
        {
         "name": "stdout",
         "output_type": "stream",
         "text": "autarky income = [100. 100. 100.]\n"
        },
        {
         "data": {
          "image/png": "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\n",
          "text/plain": "<Figure size 432x288 with 1 Axes>"
         },
         "metadata": {
          "needs_background": "light"
         },
         "output_type": "display_data"
        }
       ]
      }
     },
     "09f6fa34c2454495a9f3b0275556e706": {
      "model_module": "@jupyter-widgets/base",
      "model_module_version": "1.2.0",
      "model_name": "LayoutModel",
      "state": {}
     },
     "0d56fb6718214a4dbdbac12acb5f7c14": {
      "model_module": "@jupyter-widgets/base",
      "model_module_version": "1.2.0",
      "model_name": "LayoutModel",
      "state": {}
     },
     "0d5afe95655f409e8e6e2ffae5c376c2": {
      "model_module": "@jupyter-widgets/controls",
      "model_module_version": "1.5.0",
      "model_name": "FloatSliderModel",
      "state": {
       "description": "rho",
       "layout": "IPY_MODEL_86dde545870841cc938551ac0e509110",
       "max": 4,
       "min": 0.5,
       "step": 0.1,
       "style": "IPY_MODEL_58a794fec3024174ba61fa4745b8fffc",
       "value": 0.9
      }
     },
     "1033448978df41d3bbf9fb4b32d117bf": {
      "model_module": "@jupyter-widgets/controls",
      "model_module_version": "1.5.0",
      "model_name": "FloatSliderModel",
      "state": {
       "description": "beta",
       "layout": "IPY_MODEL_03e9d5c149304edfaaefd868068c67d0",
       "max": 0.9,
       "min": 0.3,
       "step": 0.05,
       "style": "IPY_MODEL_783b7e9a697846e5961db56af906bd90",
       "value": 0.3
      }
     },
     "1081b95280e849e28eff778ec152aaf3": {
      "model_module": "@jupyter-widgets/base",
      "model_module_version": "1.2.0",
      "model_name": "LayoutModel",
      "state": {}
     },
     "111491a41e7944838eb83344df1362b1": {
      "model_module": "@jupyter-widgets/controls",
      "model_module_version": "1.5.0",
      "model_name": "IntSliderModel",
      "state": {
       "description": "y0",
       "layout": "IPY_MODEL_2d043f600b244915a12aba9abf4193cd",
       "max": 200,
       "step": 5,
       "style": "IPY_MODEL_923d923d501141d8baebb1dd155048d1",
       "value": 135
      }
     },
     "12c2b0b97c744b4988b41980e5aa8ffe": {
      "model_module": "@jupyter-widgets/output",
      "model_module_version": "1.0.0",
      "model_name": "OutputModel",
      "state": {
       "layout": "IPY_MODEL_b3adedd0cb1749b38e1ca7f1713d0ab0",
       "outputs": [
        {
         "name": "stdout",
         "output_type": "stream",
         "text": "autarky income = [110.  95.  95.]\n"
        },
        {
         "data": {
          "image/png": "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\n",
          "text/plain": "<Figure size 432x288 with 1 Axes>"
         },
         "metadata": {
          "needs_background": "light"
         },
         "output_type": "display_data"
        }
       ]
      }
     },
     "13ab2e3dd6834c40a427ca1b3755e42f": {
      "model_module": "@jupyter-widgets/controls",
      "model_module_version": "1.5.0",
      "model_name": "FloatSliderModel",
      "state": {
       "description": "beta",
       "layout": "IPY_MODEL_c04e534e0af2481f98ad68cd24b9ff98",
       "max": 0.9,
       "min": 0.3,
       "step": 0.05,
       "style": "IPY_MODEL_59283e023c8442cf8473563930cd53cf",
       "value": 0.55
      }
     },
     "13b958cf079a4fe5a1a8e10a0d22746e": {
      "model_module": "@jupyter-widgets/controls",
      "model_module_version": "1.5.0",
      "model_name": "VBoxModel",
      "state": {
       "_dom_classes": [
        "widget-interact"
       ],
       "children": [
        "IPY_MODEL_f75a858cfc1749b1861508dd00b78b17",
        "IPY_MODEL_3f1a21ca27454bffa0804124840241e0",
        "IPY_MODEL_007ee3f9f8cf48d38bb63106d132e2a5",
        "IPY_MODEL_477ba86f17d5449d9f8ed68e2f764414"
       ],
       "layout": "IPY_MODEL_d50940b8db114c8ca4402473107edaa2"
      }
     },
     "15495ff9414f44079b03092168ca62b7": {
      "model_module": "@jupyter-widgets/controls",
      "model_module_version": "1.5.0",
      "model_name": "DescriptionStyleModel",
      "state": {
       "description_width": ""
      }
     },
     "15de83c000954fd791aab96befccd6e9": {
      "model_module": "@jupyter-widgets/base",
      "model_module_version": "1.2.0",
      "model_name": "LayoutModel",
      "state": {}
     },
     "17753400c52a49478e36e11c68f525a1": {
      "model_module": "@jupyter-widgets/controls",
      "model_module_version": "1.5.0",
      "model_name": "FloatSliderModel",
      "state": {
       "description": "beta",
       "layout": "IPY_MODEL_15de83c000954fd791aab96befccd6e9",
       "max": 0.9,
       "min": 0.3,
       "step": 0.05,
       "style": "IPY_MODEL_b97f496def01467a8e8b5350ba75168e",
       "value": 0.5
      }
     },
     "18ebfba624854cb49070cf9ad8f3e12c": {
      "model_module": "@jupyter-widgets/controls",
      "model_module_version": "1.5.0",
      "model_name": "VBoxModel",
      "state": {
       "_dom_classes": [
        "widget-interact"
       ],
       "children": [
        "IPY_MODEL_6b811915dcc64a98a224dac9a1d31a7a",
        "IPY_MODEL_7801a1b6a2ab44739cd552e5733e015a",
        "IPY_MODEL_e34a822f309645d1bc53c56b0f94b93a",
        "IPY_MODEL_12c2b0b97c744b4988b41980e5aa8ffe"
       ],
       "layout": "IPY_MODEL_ffa6c689ca7b4ee1846a3713c35c79fb"
      }
     },
     "1a9f745ccd474ecb887ce1d7c121ef80": {
      "model_module": "@jupyter-widgets/controls",
      "model_module_version": "1.5.0",
      "model_name": "SliderStyleModel",
      "state": {
       "description_width": ""
      }
     },
     "1b7f05ab7e764c8ea4d26af4900d018b": {
      "model_module": "@jupyter-widgets/base",
      "model_module_version": "1.2.0",
      "model_name": "LayoutModel",
      "state": {}
     },
     "1b9cb8c851074072a7dc92c9a78e94e8": {
      "model_module": "@jupyter-widgets/controls",
      "model_module_version": "1.5.0",
      "model_name": "SliderStyleModel",
      "state": {
       "description_width": ""
      }
     },
     "1bf72cda3d364f8ca09e870bec4c476a": {
      "model_module": "@jupyter-widgets/controls",
      "model_module_version": "1.5.0",
      "model_name": "SliderStyleModel",
      "state": {
       "description_width": ""
      }
     },
     "1cb8cf63b179408380fe90f59e578c2e": {
      "model_module": "@jupyter-widgets/base",
      "model_module_version": "1.2.0",
      "model_name": "LayoutModel",
      "state": {}
     },
     "1d77a532aa094e74b0a25247290ed116": {
      "model_module": "@jupyter-widgets/controls",
      "model_module_version": "1.5.0",
      "model_name": "SliderStyleModel",
      "state": {
       "description_width": ""
      }
     },
     "1e83e9701c144d19857fe9a0aa8f01e9": {
      "model_module": "@jupyter-widgets/controls",
      "model_module_version": "1.5.0",
      "model_name": "DescriptionStyleModel",
      "state": {
       "description_width": ""
      }
     },
     "22b20da0df734c2489a3da2add342853": {
      "model_module": "@jupyter-widgets/base",
      "model_module_version": "1.2.0",
      "model_name": "LayoutModel",
      "state": {}
     },
     "22d904776c704cec8e429f75cc45ca1d": {
      "model_module": "@jupyter-widgets/controls",
      "model_module_version": "1.5.0",
      "model_name": "SliderStyleModel",
      "state": {
       "description_width": ""
      }
     },
     "23046b4773a044ddaf1d75cd8b215b93": {
      "model_module": "@jupyter-widgets/controls",
      "model_module_version": "1.5.0",
      "model_name": "IntSliderModel",
      "state": {
       "description": "y0",
       "layout": "IPY_MODEL_018057f79fc94b85ab0931d40b444ede",
       "max": 200,
       "step": 5,
       "style": "IPY_MODEL_8ab440465c08444ea11e38992f9ae613",
       "value": 100
      }
     },
     "23708f441500459c93d3a8bbfde3920a": {
      "model_module": "@jupyter-widgets/base",
      "model_module_version": "1.2.0",
      "model_name": "LayoutModel",
      "state": {}
     },
     "26415a587d4645839c774473a77f61d3": {
      "model_module": "@jupyter-widgets/controls",
      "model_module_version": "1.5.0",
      "model_name": "FloatSliderModel",
      "state": {
       "description": "rho",
       "layout": "IPY_MODEL_ff1f79448d8346fa8cb3db214908fa3e",
       "max": 4,
       "min": 0.5,
       "step": 0.1,
       "style": "IPY_MODEL_51dede468e934ee4980418d112b028d6",
       "value": 0.9
      }
     },
     "268be5ba3e154fee8b39c00d83f0c829": {
      "model_module": "@jupyter-widgets/controls",
      "model_module_version": "1.5.0",
      "model_name": "VBoxModel",
      "state": {
       "_dom_classes": [
        "widget-interact"
       ],
       "children": [
        "IPY_MODEL_17753400c52a49478e36e11c68f525a1",
        "IPY_MODEL_d1c2614b23bd4f5999e5898b99aa0ce2",
        "IPY_MODEL_111491a41e7944838eb83344df1362b1",
        "IPY_MODEL_aaa9087e5a3a4f4ebf39bc3fb2aacd18"
       ],
       "layout": "IPY_MODEL_ce32c1a3e35b4e508d391701eac83d52"
      }
     },
     "272fe446349d459da3d03dd8da00276e": {
      "model_module": "@jupyter-widgets/controls",
      "model_module_version": "1.5.0",
      "model_name": "VBoxModel",
      "state": {
       "_dom_classes": [
        "widget-interact"
       ],
       "children": [
        "IPY_MODEL_441763bd2cd744108c30ca7e7551252a",
        "IPY_MODEL_925fd968b65d41e7ad08caad44961f14",
        "IPY_MODEL_cf26031919d04f6a8d67a18a80de9ce0",
        "IPY_MODEL_8b6042859e7248cf9829a777d9f584c1"
       ],
       "layout": "IPY_MODEL_c3610511c6d646d993d3cb69b56eb653"
      }
     },
     "27d9054ffc014c3abe9fea83eec36626": {
      "model_module": "@jupyter-widgets/controls",
      "model_module_version": "1.5.0",
      "model_name": "IntSliderModel",
      "state": {
       "description": "y0",
       "layout": "IPY_MODEL_98ff4a7474004daa82119975c2c7d256",
       "max": 200,
       "step": 10,
       "style": "IPY_MODEL_b0309f8d24db4b4d8000cc5559a102eb",
       "value": 120
      }
     },
     "27e8e20fbe2347999bb0122d92784fb7": {
      "model_module": "@jupyter-widgets/base",
      "model_module_version": "1.2.0",
      "model_name": "LayoutModel",
      "state": {}
     },
     "280283cd91484cf58669448cc4dc6d1c": {
      "model_module": "@jupyter-widgets/output",
      "model_module_version": "1.0.0",
      "model_name": "OutputModel",
      "state": {
       "layout": "IPY_MODEL_4a34de03f6454471abbbe6b690d1d644",
       "outputs": [
        {
         "data": {
          "image/png": "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\n",
          "text/plain": "<Figure size 720x576 with 2 Axes>"
         },
         "metadata": {
          "needs_background": "light"
         },
         "output_type": "display_data"
        },
        {
         "data": {
          "text/plain": "array([169.07, 167.49, 166.83, 166.33, 165.9 , 165.53, 165.19, 164.88,\n       164.59, 164.32, 164.06, 163.82, 163.58, 163.36, 163.14, 162.93,\n       162.73, 162.54, 162.35, 162.16, 161.98, 161.81, 161.64, 161.47,\n       161.31, 161.15, 160.99, 160.84, 160.69, 160.54, 160.39, 160.25,\n       160.11, 159.97, 159.83, 159.7 , 159.57, 159.43, 159.3 , 159.18,\n       159.05, 159.03, 159.03, 159.03, 159.03, 159.03, 159.03, 159.03,\n       159.03, 159.03])"
         },
         "metadata": {},
         "output_type": "display_data"
        }
       ]
      }
     },
     "28a8cf84dfdc448da86fe611a8aa608d": {
      "model_module": "@jupyter-widgets/controls",
      "model_module_version": "1.5.0",
      "model_name": "VBoxModel",
      "state": {
       "_dom_classes": [
        "widget-interact"
       ],
       "children": [
        "IPY_MODEL_5fcf214ecd414d2cac1ce8b0b3f82a2c",
        "IPY_MODEL_de7c828a69cc4920b13233d471283918",
        "IPY_MODEL_2a0b80e8e4bf447986e99b979c61cf84",
        "IPY_MODEL_729021de91f74bc6aaf0c4e3b0c3bafd"
       ],
       "layout": "IPY_MODEL_27e8e20fbe2347999bb0122d92784fb7"
      }
     },
     "2a0b80e8e4bf447986e99b979c61cf84": {
      "model_module": "@jupyter-widgets/controls",
      "model_module_version": "1.5.0",
      "model_name": "IntSliderModel",
      "state": {
       "description": "y0",
       "layout": "IPY_MODEL_ad9353c6c09b4687a1a3bcc5ab534289",
       "max": 200,
       "step": 5,
       "style": "IPY_MODEL_dfa19bf4bf5d4515bff9f1b0323514d7",
       "value": 110
      }
     },
     "2a0fb3d49b294a0abcdcf22225ad3c73": {
      "model_module": "@jupyter-widgets/controls",
      "model_module_version": "1.5.0",
      "model_name": "SliderStyleModel",
      "state": {
       "description_width": ""
      }
     },
     "2a51eb5fe1734a22975de8209c90ba7b": {
      "model_module": "@jupyter-widgets/base",
      "model_module_version": "1.2.0",
      "model_name": "LayoutModel",
      "state": {}
     },
     "2d043f600b244915a12aba9abf4193cd": {
      "model_module": "@jupyter-widgets/base",
      "model_module_version": "1.2.0",
      "model_name": "LayoutModel",
      "state": {}
     },
     "2e4b9bdd238a45eebdabcfd0526c0381": {
      "model_module": "@jupyter-widgets/base",
      "model_module_version": "1.2.0",
      "model_name": "LayoutModel",
      "state": {}
     },
     "2f7c6d2685db4596b726cab6a33056be": {
      "model_module": "@jupyter-widgets/base",
      "model_module_version": "1.2.0",
      "model_name": "LayoutModel",
      "state": {}
     },
     "2f8add2a94294afbb9b597ccc43e6151": {
      "model_module": "@jupyter-widgets/base",
      "model_module_version": "1.2.0",
      "model_name": "LayoutModel",
      "state": {}
     },
     "307933c9fdc14624ac6e0e0097593f0c": {
      "model_module": "@jupyter-widgets/base",
      "model_module_version": "1.2.0",
      "model_name": "LayoutModel",
      "state": {}
     },
     "30873fc14f204a3c9740e6747ef36abc": {
      "model_module": "@jupyter-widgets/controls",
      "model_module_version": "1.5.0",
      "model_name": "DropdownModel",
      "state": {
       "_options_labels": [
        "True",
        "False"
       ],
       "description": "comp",
       "index": 1,
       "layout": "IPY_MODEL_4f904ed9a24547adab02a46d51359051",
       "style": "IPY_MODEL_1e83e9701c144d19857fe9a0aa8f01e9"
      }
     },
     "31a564b8a0ec425aa5765555871a2393": {
      "model_module": "@jupyter-widgets/output",
      "model_module_version": "1.0.0",
      "model_name": "OutputModel",
      "state": {
       "layout": "IPY_MODEL_aba1ae26d0bd4591b2f31ed390340067",
       "outputs": [
        {
         "name": "stdout",
         "output_type": "stream",
         "text": "autarky income = [110.  95.  95.]\n"
        },
        {
         "data": {
          "image/png": "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\n",
          "text/plain": "<Figure size 432x288 with 1 Axes>"
         },
         "metadata": {
          "needs_background": "light"
         },
         "output_type": "display_data"
        }
       ]
      }
     },
     "31c34c2e252b45b3bfecc0eea7fc6dcd": {
      "model_module": "@jupyter-widgets/base",
      "model_module_version": "1.2.0",
      "model_name": "LayoutModel",
      "state": {}
     },
     "3253c30a4b6d4b04b63c517494aef0c7": {
      "model_module": "@jupyter-widgets/controls",
      "model_module_version": "1.5.0",
      "model_name": "DescriptionStyleModel",
      "state": {
       "description_width": ""
      }
     },
     "332000d48988411290e5148e1b2061be": {
      "model_module": "@jupyter-widgets/output",
      "model_module_version": "1.0.0",
      "model_name": "OutputModel",
      "state": {
       "layout": "IPY_MODEL_9b66cc31839440b595670f8546d5d112",
       "outputs": [
        {
         "name": "stdout",
         "output_type": "stream",
         "text": "autarky income = [130.  85.  85.]\n"
        },
        {
         "data": {
          "image/png": "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\n",
          "text/plain": "<Figure size 432x288 with 1 Axes>"
         },
         "metadata": {
          "needs_background": "light"
         },
         "output_type": "display_data"
        }
       ]
      }
     },
     "335696c1bb5b45ce88928b92b74c28dd": {
      "model_module": "@jupyter-widgets/controls",
      "model_module_version": "1.5.0",
      "model_name": "IntSliderModel",
      "state": {
       "description": "y0",
       "layout": "IPY_MODEL_9acbf20fef4d4029b45113a0992ad3ea",
       "max": 200,
       "step": 10,
       "style": "IPY_MODEL_b9448edf35f645019abebc81cb2f74df",
       "value": 110
      }
     },
     "34f4cbd3dffb4a8b84966101db63101e": {
      "model_module": "@jupyter-widgets/controls",
      "model_module_version": "1.5.0",
      "model_name": "DescriptionStyleModel",
      "state": {
       "description_width": ""
      }
     },
     "36c0b42461f4447991baebcffa43fd1a": {
      "model_module": "@jupyter-widgets/base",
      "model_module_version": "1.2.0",
      "model_name": "LayoutModel",
      "state": {}
     },
     "3864b462691448f996ed277f11b0a672": {
      "model_module": "@jupyter-widgets/base",
      "model_module_version": "1.2.0",
      "model_name": "LayoutModel",
      "state": {}
     },
     "38c3cf7b53db4dafb4263ef3f3a87df0": {
      "model_module": "@jupyter-widgets/base",
      "model_module_version": "1.2.0",
      "model_name": "LayoutModel",
      "state": {}
     },
     "38e20425bb7746ae9db40d31799fd336": {
      "model_module": "@jupyter-widgets/controls",
      "model_module_version": "1.5.0",
      "model_name": "SliderStyleModel",
      "state": {
       "description_width": ""
      }
     },
     "3a1b7a92ca9340e78b5b177edbcf0106": {
      "model_module": "@jupyter-widgets/base",
      "model_module_version": "1.2.0",
      "model_name": "LayoutModel",
      "state": {}
     },
     "3ad5d01364534663b0a08a9f4e53e145": {
      "model_module": "@jupyter-widgets/base",
      "model_module_version": "1.2.0",
      "model_name": "LayoutModel",
      "state": {}
     },
     "3bb7f4bb92e7461baf139813dc21a5df": {
      "model_module": "@jupyter-widgets/output",
      "model_module_version": "1.0.0",
      "model_name": "OutputModel",
      "state": {
       "layout": "IPY_MODEL_d7370ef41aef42dfb3af9109ec8b18bb",
       "outputs": [
        {
         "data": {
          "image/png": "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\n",
          "text/plain": "<Figure size 648x648 with 1 Axes>"
         },
         "metadata": {
          "needs_background": "light"
         },
         "output_type": "display_data"
        }
       ]
      }
     },
     "3d90c7b6a27f45bfaa53a218ec23e7fb": {
      "model_module": "@jupyter-widgets/base",
      "model_module_version": "1.2.0",
      "model_name": "LayoutModel",
      "state": {}
     },
     "3da12765c02a4bd69f0a250e67536d1f": {
      "model_module": "@jupyter-widgets/base",
      "model_module_version": "1.2.0",
      "model_name": "LayoutModel",
      "state": {}
     },
     "3f1a21ca27454bffa0804124840241e0": {
      "model_module": "@jupyter-widgets/controls",
      "model_module_version": "1.5.0",
      "model_name": "FloatSliderModel",
      "state": {
       "description": "rho",
       "layout": "IPY_MODEL_572554b9cb3942c68c47b78fe9879f62",
       "max": 4,
       "min": 0.5,
       "step": 0.1,
       "style": "IPY_MODEL_eab4a40a796943fdb2259741a7e7abb7",
       "value": 0.9
      }
     },
     "40a08fff6c29427cac0b76a65e282ea2": {
      "model_module": "@jupyter-widgets/base",
      "model_module_version": "1.2.0",
      "model_name": "LayoutModel",
      "state": {}
     },
     "42b9eee5de9c42eabb587c49b8d8bd1e": {
      "model_module": "@jupyter-widgets/controls",
      "model_module_version": "1.5.0",
      "model_name": "FloatSliderModel",
      "state": {
       "description": "rho",
       "layout": "IPY_MODEL_f928b163733f4dcab31dbd0c63517f17",
       "max": 3,
       "min": 0.1,
       "step": 0.05,
       "style": "IPY_MODEL_a8c899e1308346d79c1d897731a23ffa",
       "value": 1
      }
     },
     "43c845b3630b40dcb4cd814c8f668958": {
      "model_module": "@jupyter-widgets/base",
      "model_module_version": "1.2.0",
      "model_name": "LayoutModel",
      "state": {}
     },
     "441763bd2cd744108c30ca7e7551252a": {
      "model_module": "@jupyter-widgets/controls",
      "model_module_version": "1.5.0",
      "model_name": "FloatSliderModel",
      "state": {
       "description": "beta",
       "layout": "IPY_MODEL_36c0b42461f4447991baebcffa43fd1a",
       "max": 0.9,
       "min": 0.3,
       "step": 0.05,
       "style": "IPY_MODEL_6846fe3c093249d7bbda8197e5a1f048",
       "value": 0.5
      }
     },
     "45e17d40bf7b4e14b1933bc59f2c5c9f": {
      "model_module": "@jupyter-widgets/controls",
      "model_module_version": "1.5.0",
      "model_name": "FloatSliderModel",
      "state": {
       "description": "beta",
       "layout": "IPY_MODEL_88f0735ef8a44e3b85faf21e5d30feea",
       "max": 0.9,
       "min": 0.3,
       "step": 0.05,
       "style": "IPY_MODEL_7deb8d3a85354df0a08e1ca1f8ff8645",
       "value": 0.3
      }
     },
     "477ba86f17d5449d9f8ed68e2f764414": {
      "model_module": "@jupyter-widgets/output",
      "model_module_version": "1.0.0",
      "model_name": "OutputModel",
      "state": {
       "layout": "IPY_MODEL_c1d5492ffc23470cb2f3504c223e30f4",
       "outputs": [
        {
         "name": "stdout",
         "output_type": "stream",
         "text": "autarky income = [100. 100. 100.]\n"
        },
        {
         "data": {
          "image/png": "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\n",
          "text/plain": "<Figure size 432x288 with 1 Axes>"
         },
         "metadata": {
          "needs_background": "light"
         },
         "output_type": "display_data"
        }
       ]
      }
     },
     "47f827eaf3784a08aa179a520c7536ba": {
      "model_module": "@jupyter-widgets/base",
      "model_module_version": "1.2.0",
      "model_name": "LayoutModel",
      "state": {}
     },
     "4a34de03f6454471abbbe6b690d1d644": {
      "model_module": "@jupyter-widgets/base",
      "model_module_version": "1.2.0",
      "model_name": "LayoutModel",
      "state": {}
     },
     "4bc854460aa144f1a1aaf30137ef3692": {
      "model_module": "@jupyter-widgets/controls",
      "model_module_version": "1.5.0",
      "model_name": "SliderStyleModel",
      "state": {
       "description_width": ""
      }
     },
     "4bf4acccbc134b22befb59c888f905b3": {
      "model_module": "@jupyter-widgets/base",
      "model_module_version": "1.2.0",
      "model_name": "LayoutModel",
      "state": {}
     },
     "4cac48322a2a42f5aaa9d7517b384f0f": {
      "model_module": "@jupyter-widgets/base",
      "model_module_version": "1.2.0",
      "model_name": "LayoutModel",
      "state": {}
     },
     "4d5d80868f63416f960fb42381cf438d": {
      "model_module": "@jupyter-widgets/controls",
      "model_module_version": "1.5.0",
      "model_name": "FloatSliderModel",
      "state": {
       "description": "rho",
       "layout": "IPY_MODEL_f802aa6a4fe84e63a412cc1a14ae09ac",
       "max": 4,
       "min": 0.5,
       "step": 0.1,
       "style": "IPY_MODEL_22d904776c704cec8e429f75cc45ca1d",
       "value": 0.9
      }
     },
     "4e4591d7d8724d5bab48e91afc53559d": {
      "model_module": "@jupyter-widgets/controls",
      "model_module_version": "1.5.0",
      "model_name": "DropdownModel",
      "state": {
       "_options_labels": [
        "True",
        "False"
       ],
       "description": "comp",
       "index": 0,
       "layout": "IPY_MODEL_4cac48322a2a42f5aaa9d7517b384f0f",
       "style": "IPY_MODEL_15495ff9414f44079b03092168ca62b7"
      }
     },
     "4f2365c1a391481ba80922f00737cce2": {
      "model_module": "@jupyter-widgets/output",
      "model_module_version": "1.0.0",
      "model_name": "OutputModel",
      "state": {
       "layout": "IPY_MODEL_bb7346d4e5f3462080fa4e8e3055d9d4",
       "outputs": [
        {
         "name": "stdout",
         "output_type": "stream",
         "text": "autarky income = [100. 100. 100.]\n"
        },
        {
         "data": {
          "image/png": "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\n",
          "text/plain": "<Figure size 432x288 with 1 Axes>"
         },
         "metadata": {
          "needs_background": "light"
         },
         "output_type": "display_data"
        }
       ]
      }
     },
     "4f904ed9a24547adab02a46d51359051": {
      "model_module": "@jupyter-widgets/base",
      "model_module_version": "1.2.0",
      "model_name": "LayoutModel",
      "state": {}
     },
     "5077f82566f6400ea6a660eb92192bc7": {
      "model_module": "@jupyter-widgets/controls",
      "model_module_version": "1.5.0",
      "model_name": "DropdownModel",
      "state": {
       "_options_labels": [
        "True",
        "False"
       ],
       "description": "comp",
       "index": 1,
       "layout": "IPY_MODEL_be5b44a39200462fb7d7171fdf8c551c",
       "style": "IPY_MODEL_553a677730da4da68d8945adc89fd3bb"
      }
     },
     "51dede468e934ee4980418d112b028d6": {
      "model_module": "@jupyter-widgets/controls",
      "model_module_version": "1.5.0",
      "model_name": "SliderStyleModel",
      "state": {
       "description_width": ""
      }
     },
     "553a677730da4da68d8945adc89fd3bb": {
      "model_module": "@jupyter-widgets/controls",
      "model_module_version": "1.5.0",
      "model_name": "DescriptionStyleModel",
      "state": {
       "description_width": ""
      }
     },
     "5559f548285c40d88a2e06e2d71ca1d4": {
      "model_module": "@jupyter-widgets/controls",
      "model_module_version": "1.5.0",
      "model_name": "FloatSliderModel",
      "state": {
       "description": "rho",
       "layout": "IPY_MODEL_a2d30316e071477599b04dea26003c3c",
       "max": 4,
       "min": 0.5,
       "step": 0.1,
       "style": "IPY_MODEL_1b9cb8c851074072a7dc92c9a78e94e8",
       "value": 0.9
      }
     },
     "572554b9cb3942c68c47b78fe9879f62": {
      "model_module": "@jupyter-widgets/base",
      "model_module_version": "1.2.0",
      "model_name": "LayoutModel",
      "state": {}
     },
     "58a794fec3024174ba61fa4745b8fffc": {
      "model_module": "@jupyter-widgets/controls",
      "model_module_version": "1.5.0",
      "model_name": "SliderStyleModel",
      "state": {
       "description_width": ""
      }
     },
     "59283e023c8442cf8473563930cd53cf": {
      "model_module": "@jupyter-widgets/controls",
      "model_module_version": "1.5.0",
      "model_name": "SliderStyleModel",
      "state": {
       "description_width": ""
      }
     },
     "59ca9f24edce421db34d9747df4f8ad2": {
      "model_module": "@jupyter-widgets/output",
      "model_module_version": "1.0.0",
      "model_name": "OutputModel",
      "state": {
       "layout": "IPY_MODEL_e2582b253c1845abbe219bae68ba8738"
      }
     },
     "5ab57d8545ca47d5926ddac7e97a1c95": {
      "model_module": "@jupyter-widgets/controls",
      "model_module_version": "1.5.0",
      "model_name": "FloatSliderModel",
      "state": {
       "description": "beta",
       "layout": "IPY_MODEL_b97c324642484d0ca8f05183c045315b",
       "max": 0.9,
       "min": 0.3,
       "step": 0.05,
       "style": "IPY_MODEL_e260c01ee9e84dd0be9d032ef9d9bce9",
       "value": 0.5
      }
     },
     "5ad63953e22140b698f08de7a6da5159": {
      "model_module": "@jupyter-widgets/base",
      "model_module_version": "1.2.0",
      "model_name": "LayoutModel",
      "state": {}
     },
     "5b61cb1f53ab495c85c6e40fb26f1813": {
      "model_module": "@jupyter-widgets/base",
      "model_module_version": "1.2.0",
      "model_name": "LayoutModel",
      "state": {}
     },
     "5b648330f0804c478579560a2b158bd2": {
      "model_module": "@jupyter-widgets/controls",
      "model_module_version": "1.5.0",
      "model_name": "IntSliderModel",
      "state": {
       "description": "y0",
       "layout": "IPY_MODEL_76bb4746f79b4656b256e9fcf80fc2a0",
       "max": 200,
       "step": 10,
       "style": "IPY_MODEL_6c8ca9a7dc9b45f8ac6d6de958b29038",
       "value": 100
      }
     },
     "5cdbd513f00a4161aaed154668e6b9d6": {
      "model_module": "@jupyter-widgets/controls",
      "model_module_version": "1.5.0",
      "model_name": "SliderStyleModel",
      "state": {
       "description_width": ""
      }
     },
     "5df2698ea0c147a88e37e8c9ef5b96cd": {
      "model_module": "@jupyter-widgets/base",
      "model_module_version": "1.2.0",
      "model_name": "LayoutModel",
      "state": {}
     },
     "5f8f041f05ab47f5bcbd619929d0e9b8": {
      "model_module": "@jupyter-widgets/controls",
      "model_module_version": "1.5.0",
      "model_name": "DescriptionStyleModel",
      "state": {
       "description_width": ""
      }
     },
     "5fcf214ecd414d2cac1ce8b0b3f82a2c": {
      "model_module": "@jupyter-widgets/controls",
      "model_module_version": "1.5.0",
      "model_name": "FloatSliderModel",
      "state": {
       "description": "beta",
       "layout": "IPY_MODEL_90b1111748f0437d834ac04ff051ba47",
       "max": 0.9,
       "min": 0.3,
       "step": 0.05,
       "style": "IPY_MODEL_e5e206cfabaa4e8a9afee2c932da5308",
       "value": 0.5
      }
     },
     "61b2a08cd3304cdc8252249f6b41416d": {
      "model_module": "@jupyter-widgets/controls",
      "model_module_version": "1.5.0",
      "model_name": "DropdownModel",
      "state": {
       "_options_labels": [
        "True",
        "False"
       ],
       "description": "comp",
       "index": 0,
       "layout": "IPY_MODEL_5ad63953e22140b698f08de7a6da5159",
       "style": "IPY_MODEL_00d8d00098e449dfa461b19ffc04cf2a"
      }
     },
     "62214f03a31c4581b406023653d0f332": {
      "model_module": "@jupyter-widgets/base",
      "model_module_version": "1.2.0",
      "model_name": "LayoutModel",
      "state": {}
     },
     "63975b0bd4da43a6a36a377f8872b561": {
      "model_module": "@jupyter-widgets/controls",
      "model_module_version": "1.5.0",
      "model_name": "FloatSliderModel",
      "state": {
       "description": "rho",
       "layout": "IPY_MODEL_47f827eaf3784a08aa179a520c7536ba",
       "max": 4,
       "min": 0.5,
       "step": 0.1,
       "style": "IPY_MODEL_5cdbd513f00a4161aaed154668e6b9d6",
       "value": 0.9
      }
     },
     "6846fe3c093249d7bbda8197e5a1f048": {
      "model_module": "@jupyter-widgets/controls",
      "model_module_version": "1.5.0",
      "model_name": "SliderStyleModel",
      "state": {
       "description_width": ""
      }
     },
     "6885f9fac81146eba9825ffbddd7a9eb": {
      "model_module": "@jupyter-widgets/output",
      "model_module_version": "1.0.0",
      "model_name": "OutputModel",
      "state": {
       "layout": "IPY_MODEL_b2c748165aa64edda456da68d086ca15",
       "outputs": [
        {
         "name": "stdout",
         "output_type": "stream",
         "text": "autarky income = [120.  90.  90.]\n"
        },
        {
         "data": {
          "image/png": "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\n",
          "text/plain": "<Figure size 432x288 with 1 Axes>"
         },
         "metadata": {
          "needs_background": "light"
         },
         "output_type": "display_data"
        }
       ]
      }
     },
     "69b213b10b5a4f81852fc6c7ffb12d73": {
      "model_module": "@jupyter-widgets/controls",
      "model_module_version": "1.5.0",
      "model_name": "IntSliderModel",
      "state": {
       "description": "kap",
       "layout": "IPY_MODEL_d9a23db428fd4bfea112106b23b78fd2",
       "max": 20,
       "style": "IPY_MODEL_a795674418784488afd363a55d91123f"
      }
     },
     "6b683c617cde43b3b4aa45484ac2dc18": {
      "model_module": "@jupyter-widgets/controls",
      "model_module_version": "1.5.0",
      "model_name": "FloatSliderModel",
      "state": {
       "description": "rho",
       "layout": "IPY_MODEL_b917449e8e894fedb3302284f09a7a02",
       "max": 4,
       "min": 0.5,
       "step": 0.1,
       "style": "IPY_MODEL_badb0344dcb44b9499d11c7115867c6b",
       "value": 0.9
      }
     },
     "6b811915dcc64a98a224dac9a1d31a7a": {
      "model_module": "@jupyter-widgets/controls",
      "model_module_version": "1.5.0",
      "model_name": "FloatSliderModel",
      "state": {
       "description": "beta",
       "layout": "IPY_MODEL_3ad5d01364534663b0a08a9f4e53e145",
       "max": 0.9,
       "min": 0.3,
       "step": 0.05,
       "style": "IPY_MODEL_d48f6779619d4326a1ec8f652db0d904",
       "value": 0.5
      }
     },
     "6c8ca9a7dc9b45f8ac6d6de958b29038": {
      "model_module": "@jupyter-widgets/controls",
      "model_module_version": "1.5.0",
      "model_name": "SliderStyleModel",
      "state": {
       "description_width": ""
      }
     },
     "6cd78f50a6b94cfc8c0ebccb0adf8938": {
      "model_module": "@jupyter-widgets/controls",
      "model_module_version": "1.5.0",
      "model_name": "SliderStyleModel",
      "state": {
       "description_width": ""
      }
     },
     "6ea514f51c4c42c5ba9b234aa5a7efa1": {
      "model_module": "@jupyter-widgets/base",
      "model_module_version": "1.2.0",
      "model_name": "LayoutModel",
      "state": {}
     },
     "6f272d3497c042f4802a788d761e74f9": {
      "model_module": "@jupyter-widgets/controls",
      "model_module_version": "1.5.0",
      "model_name": "FloatSliderModel",
      "state": {
       "description": "beta",
       "layout": "IPY_MODEL_c91a9e6aac1349cd830b1f4d34fffc4e",
       "max": 0.9,
       "min": 0.3,
       "step": 0.05,
       "style": "IPY_MODEL_f1f1b2c8dd6d4f50aa28c6befec1e348",
       "value": 0.3
      }
     },
     "6fadbabbd7f04894b2bbb9db30e16490": {
      "model_module": "@jupyter-widgets/controls",
      "model_module_version": "1.5.0",
      "model_name": "FloatSliderModel",
      "state": {
       "description": "beta",
       "layout": "IPY_MODEL_23708f441500459c93d3a8bbfde3920a",
       "max": 0.9,
       "min": 0.3,
       "step": 0.05,
       "style": "IPY_MODEL_1d77a532aa094e74b0a25247290ed116",
       "value": 0.5
      }
     },
     "7131d507375a418a95e01a975cea0e3a": {
      "model_module": "@jupyter-widgets/base",
      "model_module_version": "1.2.0",
      "model_name": "LayoutModel",
      "state": {}
     },
     "729021de91f74bc6aaf0c4e3b0c3bafd": {
      "model_module": "@jupyter-widgets/output",
      "model_module_version": "1.0.0",
      "model_name": "OutputModel",
      "state": {
       "layout": "IPY_MODEL_1cb8cf63b179408380fe90f59e578c2e",
       "outputs": [
        {
         "name": "stdout",
         "output_type": "stream",
         "text": "autarky income = [110.  95.  95.]\n"
        },
        {
         "data": {
          "image/png": "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\n",
          "text/plain": "<Figure size 432x288 with 1 Axes>"
         },
         "metadata": {
          "needs_background": "light"
         },
         "output_type": "display_data"
        }
       ]
      }
     },
     "7570c484496d4236bd7983c7fbc6e114": {
      "model_module": "@jupyter-widgets/controls",
      "model_module_version": "1.5.0",
      "model_name": "FloatSliderModel",
      "state": {
       "description": "beta",
       "layout": "IPY_MODEL_c10bcdec23bd492baba515fe1122462a",
       "max": 0.9,
       "min": 0.3,
       "step": 0.05,
       "style": "IPY_MODEL_1a9f745ccd474ecb887ce1d7c121ef80",
       "value": 0.5
      }
     },
     "76bb4746f79b4656b256e9fcf80fc2a0": {
      "model_module": "@jupyter-widgets/base",
      "model_module_version": "1.2.0",
      "model_name": "LayoutModel",
      "state": {}
     },
     "76bc6114abf54d6c8628089852af9308": {
      "model_module": "@jupyter-widgets/controls",
      "model_module_version": "1.5.0",
      "model_name": "FloatSliderModel",
      "state": {
       "description": "beta",
       "layout": "IPY_MODEL_b0e29455ad5f406587e3130546f20c69",
       "max": 0.9,
       "min": 0.3,
       "step": 0.05,
       "style": "IPY_MODEL_79712822f1864bf1b7b91b5202ae23b1",
       "value": 0.3
      }
     },
     "773051de792546f2b6788281e80be0fa": {
      "model_module": "@jupyter-widgets/base",
      "model_module_version": "1.2.0",
      "model_name": "LayoutModel",
      "state": {}
     },
     "7801a1b6a2ab44739cd552e5733e015a": {
      "model_module": "@jupyter-widgets/controls",
      "model_module_version": "1.5.0",
      "model_name": "FloatSliderModel",
      "state": {
       "description": "rho",
       "layout": "IPY_MODEL_f1c1db22c76547a79a86142cdc281f3e",
       "max": 4,
       "min": 0.5,
       "step": 0.1,
       "style": "IPY_MODEL_fb2c4055e64d437d908db00cf76674a4",
       "value": 0.9
      }
     },
     "783b7e9a697846e5961db56af906bd90": {
      "model_module": "@jupyter-widgets/controls",
      "model_module_version": "1.5.0",
      "model_name": "SliderStyleModel",
      "state": {
       "description_width": ""
      }
     },
     "79712822f1864bf1b7b91b5202ae23b1": {
      "model_module": "@jupyter-widgets/controls",
      "model_module_version": "1.5.0",
      "model_name": "SliderStyleModel",
      "state": {
       "description_width": ""
      }
     },
     "7a934cdb6ea24ae7b39b1c88bbf5c718": {
      "model_module": "@jupyter-widgets/base",
      "model_module_version": "1.2.0",
      "model_name": "LayoutModel",
      "state": {}
     },
     "7b0541116a164f52b66e7d15285d9d4f": {
      "model_module": "@jupyter-widgets/base",
      "model_module_version": "1.2.0",
      "model_name": "LayoutModel",
      "state": {}
     },
     "7cbf378e429d473c977590520f97da25": {
      "model_module": "@jupyter-widgets/controls",
      "model_module_version": "1.5.0",
      "model_name": "FloatSliderModel",
      "state": {
       "description": "rho",
       "layout": "IPY_MODEL_3a1b7a92ca9340e78b5b177edbcf0106",
       "max": 4,
       "min": 0.5,
       "step": 0.1,
       "style": "IPY_MODEL_bb308a04c21944db96a333156ce4db51",
       "value": 0.9
      }
     },
     "7da322a969b74e78ba7076ce78a691fc": {
      "model_module": "@jupyter-widgets/controls",
      "model_module_version": "1.5.0",
      "model_name": "FloatSliderModel",
      "state": {
       "description": "rho",
       "layout": "IPY_MODEL_95d1fd23501e40439d56cca7b5a7272a",
       "max": 4,
       "min": 0.5,
       "step": 0.1,
       "style": "IPY_MODEL_1bf72cda3d364f8ca09e870bec4c476a",
       "value": 1
      }
     },
     "7deb8d3a85354df0a08e1ca1f8ff8645": {
      "model_module": "@jupyter-widgets/controls",
      "model_module_version": "1.5.0",
      "model_name": "SliderStyleModel",
      "state": {
       "description_width": ""
      }
     },
     "81de3ed9b4914b5bac93d6a3e5a47dd9": {
      "model_module": "@jupyter-widgets/controls",
      "model_module_version": "1.5.0",
      "model_name": "IntSliderModel",
      "state": {
       "description": "y0",
       "layout": "IPY_MODEL_fe863aca245447769a0991488eec019a",
       "max": 200,
       "step": 5,
       "style": "IPY_MODEL_fbe82804fbbe4eb0aad6ba601b517249",
       "value": 130
      }
     },
     "81ed5aa74fae43a9a8bf8127c063b1c6": {
      "model_module": "@jupyter-widgets/output",
      "model_module_version": "1.0.0",
      "model_name": "OutputModel",
      "state": {
       "layout": "IPY_MODEL_9901bcb5d4b3468d9a690f69342ddf0d"
      }
     },
     "82bea9f4c4ef499ab28afb6a44cb0fb9": {
      "model_module": "@jupyter-widgets/controls",
      "model_module_version": "1.5.0",
      "model_name": "SliderStyleModel",
      "state": {
       "description_width": ""
      }
     },
     "82f0d63a4a0f4ee1824c812b721369d1": {
      "model_module": "@jupyter-widgets/controls",
      "model_module_version": "1.5.0",
      "model_name": "VBoxModel",
      "state": {
       "_dom_classes": [
        "widget-interact"
       ],
       "children": [
        "IPY_MODEL_9e02c051f88647bbacc3cae9b756f452",
        "IPY_MODEL_1033448978df41d3bbf9fb4b32d117bf",
        "IPY_MODEL_6b683c617cde43b3b4aa45484ac2dc18",
        "IPY_MODEL_d5330b8ce3984b21bb14cfbc76950fec"
       ],
       "layout": "IPY_MODEL_a83d0585e9a94947adc92e394ba127f7"
      }
     },
     "840f2bd13ee14ba39ebe629d0d986ed2": {
      "model_module": "@jupyter-widgets/controls",
      "model_module_version": "1.5.0",
      "model_name": "VBoxModel",
      "state": {
       "_dom_classes": [
        "widget-interact"
       ],
       "children": [
        "IPY_MODEL_5ab57d8545ca47d5926ddac7e97a1c95",
        "IPY_MODEL_5559f548285c40d88a2e06e2d71ca1d4",
        "IPY_MODEL_335696c1bb5b45ce88928b92b74c28dd",
        "IPY_MODEL_31a564b8a0ec425aa5765555871a2393"
       ],
       "layout": "IPY_MODEL_a141bf8c3bf6423791fc109ca994309a"
      }
     },
     "861067ce97ad4c5aaef52a8971fdcb48": {
      "model_module": "@jupyter-widgets/base",
      "model_module_version": "1.2.0",
      "model_name": "LayoutModel",
      "state": {}
     },
     "86ba3f79ca364b57b30e2235ddda7340": {
      "model_module": "@jupyter-widgets/base",
      "model_module_version": "1.2.0",
      "model_name": "LayoutModel",
      "state": {}
     },
     "86dde545870841cc938551ac0e509110": {
      "model_module": "@jupyter-widgets/base",
      "model_module_version": "1.2.0",
      "model_name": "LayoutModel",
      "state": {}
     },
     "88f0735ef8a44e3b85faf21e5d30feea": {
      "model_module": "@jupyter-widgets/base",
      "model_module_version": "1.2.0",
      "model_name": "LayoutModel",
      "state": {}
     },
     "899e10790bae4c17bc17ff57de8d66a7": {
      "model_module": "@jupyter-widgets/base",
      "model_module_version": "1.2.0",
      "model_name": "LayoutModel",
      "state": {}
     },
     "8ab440465c08444ea11e38992f9ae613": {
      "model_module": "@jupyter-widgets/controls",
      "model_module_version": "1.5.0",
      "model_name": "SliderStyleModel",
      "state": {
       "description_width": ""
      }
     },
     "8b6042859e7248cf9829a777d9f584c1": {
      "model_module": "@jupyter-widgets/output",
      "model_module_version": "1.0.0",
      "model_name": "OutputModel",
      "state": {
       "layout": "IPY_MODEL_ad9071f74d0a43c1ae380abb361aff8c",
       "outputs": [
        {
         "name": "stdout",
         "output_type": "stream",
         "text": "autarky income = [135.   82.5  82.5]\n"
        },
        {
         "data": {
          "image/png": "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\n",
          "text/plain": "<Figure size 432x288 with 1 Axes>"
         },
         "metadata": {
          "needs_background": "light"
         },
         "output_type": "display_data"
        }
       ]
      }
     },
     "8c2e41485bed482ba14d39fba3a9137f": {
      "model_module": "@jupyter-widgets/controls",
      "model_module_version": "1.5.0",
      "model_name": "FloatSliderModel",
      "state": {
       "description": "beta",
       "layout": "IPY_MODEL_1b7f05ab7e764c8ea4d26af4900d018b",
       "max": 0.9,
       "min": 0.3,
       "step": 0.05,
       "style": "IPY_MODEL_087d3b5208214770aceebb7d41e981e9",
       "value": 0.35
      }
     },
     "8dfeb3639d384090a7500506c05563a8": {
      "model_module": "@jupyter-widgets/controls",
      "model_module_version": "1.5.0",
      "model_name": "SliderStyleModel",
      "state": {
       "description_width": ""
      }
     },
     "90b1111748f0437d834ac04ff051ba47": {
      "model_module": "@jupyter-widgets/base",
      "model_module_version": "1.2.0",
      "model_name": "LayoutModel",
      "state": {}
     },
     "923d923d501141d8baebb1dd155048d1": {
      "model_module": "@jupyter-widgets/controls",
      "model_module_version": "1.5.0",
      "model_name": "SliderStyleModel",
      "state": {
       "description_width": ""
      }
     },
     "925fd968b65d41e7ad08caad44961f14": {
      "model_module": "@jupyter-widgets/controls",
      "model_module_version": "1.5.0",
      "model_name": "FloatSliderModel",
      "state": {
       "description": "rho",
       "layout": "IPY_MODEL_ee84cf6a60ff4992ac57efb0fc356352",
       "max": 4,
       "min": 0.5,
       "step": 0.1,
       "style": "IPY_MODEL_38e20425bb7746ae9db40d31799fd336",
       "value": 0.9
      }
     },
     "9322157d26544ed4a8b39eba9c871911": {
      "model_module": "@jupyter-widgets/controls",
      "model_module_version": "1.5.0",
      "model_name": "SliderStyleModel",
      "state": {
       "description_width": ""
      }
     },
     "941bdcb0a5244d4f849c1beea5e01a0f": {
      "model_module": "@jupyter-widgets/controls",
      "model_module_version": "1.5.0",
      "model_name": "FloatSliderModel",
      "state": {
       "description": "rho",
       "layout": "IPY_MODEL_b6c6cdbc6db24bcabf472bdb7f249ec4",
       "max": 4,
       "min": 0.5,
       "step": 0.1,
       "style": "IPY_MODEL_8dfeb3639d384090a7500506c05563a8",
       "value": 0.9
      }
     },
     "95d1fd23501e40439d56cca7b5a7272a": {
      "model_module": "@jupyter-widgets/base",
      "model_module_version": "1.2.0",
      "model_name": "LayoutModel",
      "state": {}
     },
     "96598bccfdd1426b89970a4a83dabc29": {
      "model_module": "@jupyter-widgets/base",
      "model_module_version": "1.2.0",
      "model_name": "LayoutModel",
      "state": {}
     },
     "972a2e0ca9c046c2b94cfc2b23f89299": {
      "model_module": "@jupyter-widgets/base",
      "model_module_version": "1.2.0",
      "model_name": "LayoutModel",
      "state": {}
     },
     "98ff4a7474004daa82119975c2c7d256": {
      "model_module": "@jupyter-widgets/base",
      "model_module_version": "1.2.0",
      "model_name": "LayoutModel",
      "state": {}
     },
     "9901bcb5d4b3468d9a690f69342ddf0d": {
      "model_module": "@jupyter-widgets/base",
      "model_module_version": "1.2.0",
      "model_name": "LayoutModel",
      "state": {}
     },
     "9acbf20fef4d4029b45113a0992ad3ea": {
      "model_module": "@jupyter-widgets/base",
      "model_module_version": "1.2.0",
      "model_name": "LayoutModel",
      "state": {}
     },
     "9b66cc31839440b595670f8546d5d112": {
      "model_module": "@jupyter-widgets/base",
      "model_module_version": "1.2.0",
      "model_name": "LayoutModel",
      "state": {}
     },
     "9d3bdc3cb31f4443a8935c64febead4a": {
      "model_module": "@jupyter-widgets/base",
      "model_module_version": "1.2.0",
      "model_name": "LayoutModel",
      "state": {}
     },
     "9e02c051f88647bbacc3cae9b756f452": {
      "model_module": "@jupyter-widgets/controls",
      "model_module_version": "1.5.0",
      "model_name": "DropdownModel",
      "state": {
       "_options_labels": [
        "True",
        "False"
       ],
       "description": "comp",
       "index": 0,
       "layout": "IPY_MODEL_b664092584f842048468e071c103a11d",
       "style": "IPY_MODEL_d2dc20647a7b4c34a899742d7d4a2359"
      }
     },
     "9f287c10835e4c21b0bc5fc3eda566be": {
      "model_module": "@jupyter-widgets/controls",
      "model_module_version": "1.5.0",
      "model_name": "FloatSliderModel",
      "state": {
       "description": "rho",
       "layout": "IPY_MODEL_b7c945f2f4984189a018c1e761edaa84",
       "max": 4,
       "min": 0.5,
       "step": 0.1,
       "style": "IPY_MODEL_01d0c28e1508413cb134573ff1523267",
       "value": 0.9
      }
     },
     "9fa7db77dc604aaebf99cd6e92ae6789": {
      "model_module": "@jupyter-widgets/controls",
      "model_module_version": "1.5.0",
      "model_name": "SliderStyleModel",
      "state": {
       "description_width": ""
      }
     },
     "a141bf8c3bf6423791fc109ca994309a": {
      "model_module": "@jupyter-widgets/base",
      "model_module_version": "1.2.0",
      "model_name": "LayoutModel",
      "state": {}
     },
     "a2d30316e071477599b04dea26003c3c": {
      "model_module": "@jupyter-widgets/base",
      "model_module_version": "1.2.0",
      "model_name": "LayoutModel",
      "state": {}
     },
     "a410d77a6ac64dd0ab32008f03215375": {
      "model_module": "@jupyter-widgets/controls",
      "model_module_version": "1.5.0",
      "model_name": "DropdownModel",
      "state": {
       "_options_labels": [
        "True",
        "False"
       ],
       "description": "comp",
       "index": 0,
       "layout": "IPY_MODEL_e9784c11394a45e1840fdf05dca2f1c1",
       "style": "IPY_MODEL_021cf74db5374ec5858d6936dee73b2d"
      }
     },
     "a55336fb01ec44049bfd83943bcf9b7f": {
      "model_module": "@jupyter-widgets/controls",
      "model_module_version": "1.5.0",
      "model_name": "SliderStyleModel",
      "state": {
       "description_width": ""
      }
     },
     "a7748e09df69488b83e441259dee37b0": {
      "model_module": "@jupyter-widgets/controls",
      "model_module_version": "1.5.0",
      "model_name": "DescriptionStyleModel",
      "state": {
       "description_width": ""
      }
     },
     "a795674418784488afd363a55d91123f": {
      "model_module": "@jupyter-widgets/controls",
      "model_module_version": "1.5.0",
      "model_name": "SliderStyleModel",
      "state": {
       "description_width": ""
      }
     },
     "a83d0585e9a94947adc92e394ba127f7": {
      "model_module": "@jupyter-widgets/base",
      "model_module_version": "1.2.0",
      "model_name": "LayoutModel",
      "state": {}
     },
     "a8520b004ab54e149917486d3652111a": {
      "model_module": "@jupyter-widgets/controls",
      "model_module_version": "1.5.0",
      "model_name": "FloatSliderModel",
      "state": {
       "description": "rho",
       "layout": "IPY_MODEL_861067ce97ad4c5aaef52a8971fdcb48",
       "max": 4,
       "min": 0.5,
       "step": 0.1,
       "style": "IPY_MODEL_4bc854460aa144f1a1aaf30137ef3692",
       "value": 0.9
      }
     },
     "a8c899e1308346d79c1d897731a23ffa": {
      "model_module": "@jupyter-widgets/controls",
      "model_module_version": "1.5.0",
      "model_name": "SliderStyleModel",
      "state": {
       "description_width": ""
      }
     },
     "a936c6cfc96441b1979557deb687fab8": {
      "model_module": "@jupyter-widgets/controls",
      "model_module_version": "1.5.0",
      "model_name": "FloatSliderModel",
      "state": {
       "description": "rho",
       "layout": "IPY_MODEL_e780b9412a714be68dcae9d0c16a772a",
       "max": 3,
       "min": 0.1,
       "step": 0.05,
       "style": "IPY_MODEL_dcab913bd7f245eb8b84a78b8951e168",
       "value": 1
      }
     },
     "aaa9087e5a3a4f4ebf39bc3fb2aacd18": {
      "model_module": "@jupyter-widgets/output",
      "model_module_version": "1.0.0",
      "model_name": "OutputModel",
      "state": {
       "layout": "IPY_MODEL_96598bccfdd1426b89970a4a83dabc29",
       "outputs": [
        {
         "name": "stdout",
         "output_type": "stream",
         "text": "autarky income = [135.   82.5  82.5]\n"
        },
        {
         "data": {
          "image/png": "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\n",
          "text/plain": "<Figure size 432x288 with 1 Axes>"
         },
         "metadata": {
          "needs_background": "light"
         },
         "output_type": "display_data"
        }
       ]
      }
     },
     "aba1ae26d0bd4591b2f31ed390340067": {
      "model_module": "@jupyter-widgets/base",
      "model_module_version": "1.2.0",
      "model_name": "LayoutModel",
      "state": {}
     },
     "abe61746a2384dc4a1320b6769eb3430": {
      "model_module": "@jupyter-widgets/controls",
      "model_module_version": "1.5.0",
      "model_name": "VBoxModel",
      "state": {
       "_dom_classes": [
        "widget-interact"
       ],
       "children": [
        "IPY_MODEL_7570c484496d4236bd7983c7fbc6e114",
        "IPY_MODEL_a8520b004ab54e149917486d3652111a",
        "IPY_MODEL_27d9054ffc014c3abe9fea83eec36626",
        "IPY_MODEL_6885f9fac81146eba9825ffbddd7a9eb"
       ],
       "layout": "IPY_MODEL_3d90c7b6a27f45bfaa53a218ec23e7fb"
      }
     },
     "ad9071f74d0a43c1ae380abb361aff8c": {
      "model_module": "@jupyter-widgets/base",
      "model_module_version": "1.2.0",
      "model_name": "LayoutModel",
      "state": {}
     },
     "ad9353c6c09b4687a1a3bcc5ab534289": {
      "model_module": "@jupyter-widgets/base",
      "model_module_version": "1.2.0",
      "model_name": "LayoutModel",
      "state": {}
     },
     "ad9a1fd9606d4a0293506878c4557a54": {
      "model_module": "@jupyter-widgets/controls",
      "model_module_version": "1.5.0",
      "model_name": "VBoxModel",
      "state": {
       "_dom_classes": [
        "widget-interact"
       ],
       "children": [
        "IPY_MODEL_61b2a08cd3304cdc8252249f6b41416d",
        "IPY_MODEL_69b213b10b5a4f81852fc6c7ffb12d73",
        "IPY_MODEL_76bc6114abf54d6c8628089852af9308",
        "IPY_MODEL_63975b0bd4da43a6a36a377f8872b561",
        "IPY_MODEL_de6b5601d5374a89bd3a318183512b72"
       ],
       "layout": "IPY_MODEL_5df2698ea0c147a88e37e8c9ef5b96cd"
      }
     },
     "ade0b93ddee047a1a097ab260a012ccd": {
      "model_module": "@jupyter-widgets/base",
      "model_module_version": "1.2.0",
      "model_name": "LayoutModel",
      "state": {}
     },
     "ae553dbf87244c03b7a1b3a050320b4e": {
      "model_module": "@jupyter-widgets/base",
      "model_module_version": "1.2.0",
      "model_name": "LayoutModel",
      "state": {}
     },
     "affe127932c64081806a3ccee8603c13": {
      "model_module": "@jupyter-widgets/controls",
      "model_module_version": "1.5.0",
      "model_name": "SliderStyleModel",
      "state": {
       "description_width": ""
      }
     },
     "b00551863e8c4345a07fd40ded06cf77": {
      "model_module": "@jupyter-widgets/controls",
      "model_module_version": "1.5.0",
      "model_name": "DescriptionStyleModel",
      "state": {
       "description_width": ""
      }
     },
     "b0309f8d24db4b4d8000cc5559a102eb": {
      "model_module": "@jupyter-widgets/controls",
      "model_module_version": "1.5.0",
      "model_name": "SliderStyleModel",
      "state": {
       "description_width": ""
      }
     },
     "b0e29455ad5f406587e3130546f20c69": {
      "model_module": "@jupyter-widgets/base",
      "model_module_version": "1.2.0",
      "model_name": "LayoutModel",
      "state": {}
     },
     "b2c748165aa64edda456da68d086ca15": {
      "model_module": "@jupyter-widgets/base",
      "model_module_version": "1.2.0",
      "model_name": "LayoutModel",
      "state": {}
     },
     "b3adedd0cb1749b38e1ca7f1713d0ab0": {
      "model_module": "@jupyter-widgets/base",
      "model_module_version": "1.2.0",
      "model_name": "LayoutModel",
      "state": {}
     },
     "b40b26c54f624c4881e62c0e532d3b1c": {
      "model_module": "@jupyter-widgets/controls",
      "model_module_version": "1.5.0",
      "model_name": "IntSliderModel",
      "state": {
       "description": "kap",
       "layout": "IPY_MODEL_3864b462691448f996ed277f11b0a672",
       "max": 20,
       "style": "IPY_MODEL_c075c9c3be0847eeaef64ae8c6f2ec56",
       "value": 8
      }
     },
     "b42dda0e1a4c40169e6c87ddb1cfba91": {
      "model_module": "@jupyter-widgets/base",
      "model_module_version": "1.2.0",
      "model_name": "LayoutModel",
      "state": {}
     },
     "b664092584f842048468e071c103a11d": {
      "model_module": "@jupyter-widgets/base",
      "model_module_version": "1.2.0",
      "model_name": "LayoutModel",
      "state": {}
     },
     "b6c6cdbc6db24bcabf472bdb7f249ec4": {
      "model_module": "@jupyter-widgets/base",
      "model_module_version": "1.2.0",
      "model_name": "LayoutModel",
      "state": {}
     },
     "b707079c901a4c25b74de10bb5c51b05": {
      "model_module": "@jupyter-widgets/controls",
      "model_module_version": "1.5.0",
      "model_name": "VBoxModel",
      "state": {
       "_dom_classes": [
        "widget-interact"
       ],
       "children": [
        "IPY_MODEL_4e4591d7d8724d5bab48e91afc53559d",
        "IPY_MODEL_45e17d40bf7b4e14b1933bc59f2c5c9f",
        "IPY_MODEL_4d5d80868f63416f960fb42381cf438d",
        "IPY_MODEL_81ed5aa74fae43a9a8bf8127c063b1c6"
       ],
       "layout": "IPY_MODEL_dd7e6cff53f04649a491eabbe1d81810"
      }
     },
     "b7c945f2f4984189a018c1e761edaa84": {
      "model_module": "@jupyter-widgets/base",
      "model_module_version": "1.2.0",
      "model_name": "LayoutModel",
      "state": {}
     },
     "b917449e8e894fedb3302284f09a7a02": {
      "model_module": "@jupyter-widgets/base",
      "model_module_version": "1.2.0",
      "model_name": "LayoutModel",
      "state": {}
     },
     "b9448edf35f645019abebc81cb2f74df": {
      "model_module": "@jupyter-widgets/controls",
      "model_module_version": "1.5.0",
      "model_name": "SliderStyleModel",
      "state": {
       "description_width": ""
      }
     },
     "b97c324642484d0ca8f05183c045315b": {
      "model_module": "@jupyter-widgets/base",
      "model_module_version": "1.2.0",
      "model_name": "LayoutModel",
      "state": {}
     },
     "b97f496def01467a8e8b5350ba75168e": {
      "model_module": "@jupyter-widgets/controls",
      "model_module_version": "1.5.0",
      "model_name": "SliderStyleModel",
      "state": {
       "description_width": ""
      }
     },
     "badb0344dcb44b9499d11c7115867c6b": {
      "model_module": "@jupyter-widgets/controls",
      "model_module_version": "1.5.0",
      "model_name": "SliderStyleModel",
      "state": {
       "description_width": ""
      }
     },
     "bb308a04c21944db96a333156ce4db51": {
      "model_module": "@jupyter-widgets/controls",
      "model_module_version": "1.5.0",
      "model_name": "SliderStyleModel",
      "state": {
       "description_width": ""
      }
     },
     "bb5bd6cefe9c42d684e70d56a8f6f4e8": {
      "model_module": "@jupyter-widgets/controls",
      "model_module_version": "1.5.0",
      "model_name": "FloatSliderModel",
      "state": {
       "description": "beta",
       "layout": "IPY_MODEL_972a2e0ca9c046c2b94cfc2b23f89299",
       "max": 0.9,
       "min": 0.3,
       "step": 0.05,
       "style": "IPY_MODEL_affe127932c64081806a3ccee8603c13",
       "value": 0.4
      }
     },
     "bb66c685cbbc4d2986913f337f1db05e": {
      "model_module": "@jupyter-widgets/controls",
      "model_module_version": "1.5.0",
      "model_name": "VBoxModel",
      "state": {
       "_dom_classes": [
        "widget-interact"
       ],
       "children": [
        "IPY_MODEL_a410d77a6ac64dd0ab32008f03215375",
        "IPY_MODEL_b40b26c54f624c4881e62c0e532d3b1c",
        "IPY_MODEL_6f272d3497c042f4802a788d761e74f9",
        "IPY_MODEL_0d5afe95655f409e8e6e2ffae5c376c2",
        "IPY_MODEL_3bb7f4bb92e7461baf139813dc21a5df"
       ],
       "layout": "IPY_MODEL_ff5bf6d0a11e4e7a9c829d19e940e5e7"
      }
     },
     "bb7346d4e5f3462080fa4e8e3055d9d4": {
      "model_module": "@jupyter-widgets/base",
      "model_module_version": "1.2.0",
      "model_name": "LayoutModel",
      "state": {}
     },
     "be5b44a39200462fb7d7171fdf8c551c": {
      "model_module": "@jupyter-widgets/base",
      "model_module_version": "1.2.0",
      "model_name": "LayoutModel",
      "state": {}
     },
     "c04e534e0af2481f98ad68cd24b9ff98": {
      "model_module": "@jupyter-widgets/base",
      "model_module_version": "1.2.0",
      "model_name": "LayoutModel",
      "state": {}
     },
     "c075c9c3be0847eeaef64ae8c6f2ec56": {
      "model_module": "@jupyter-widgets/controls",
      "model_module_version": "1.5.0",
      "model_name": "SliderStyleModel",
      "state": {
       "description_width": ""
      }
     },
     "c10bcdec23bd492baba515fe1122462a": {
      "model_module": "@jupyter-widgets/base",
      "model_module_version": "1.2.0",
      "model_name": "LayoutModel",
      "state": {}
     },
     "c1d5492ffc23470cb2f3504c223e30f4": {
      "model_module": "@jupyter-widgets/base",
      "model_module_version": "1.2.0",
      "model_name": "LayoutModel",
      "state": {}
     },
     "c3610511c6d646d993d3cb69b56eb653": {
      "model_module": "@jupyter-widgets/base",
      "model_module_version": "1.2.0",
      "model_name": "LayoutModel",
      "state": {}
     },
     "c52594b4d81240e5a53aebea6c58631f": {
      "model_module": "@jupyter-widgets/controls",
      "model_module_version": "1.5.0",
      "model_name": "VBoxModel",
      "state": {
       "_dom_classes": [
        "widget-interact"
       ],
       "children": [
        "IPY_MODEL_5077f82566f6400ea6a660eb92192bc7",
        "IPY_MODEL_8c2e41485bed482ba14d39fba3a9137f",
        "IPY_MODEL_7cbf378e429d473c977590520f97da25",
        "IPY_MODEL_280283cd91484cf58669448cc4dc6d1c"
       ],
       "layout": "IPY_MODEL_38c3cf7b53db4dafb4263ef3f3a87df0"
      }
     },
     "c5936c83ef544f918c523f0490e45b35": {
      "model_module": "@jupyter-widgets/controls",
      "model_module_version": "1.5.0",
      "model_name": "SliderStyleModel",
      "state": {
       "description_width": ""
      }
     },
     "c8fe8eea07944aa38949788f42472530": {
      "model_module": "@jupyter-widgets/controls",
      "model_module_version": "1.5.0",
      "model_name": "DropdownModel",
      "state": {
       "_options_labels": [
        "True",
        "False"
       ],
       "description": "comp",
       "index": 0,
       "layout": "IPY_MODEL_5b61cb1f53ab495c85c6e40fb26f1813",
       "style": "IPY_MODEL_a7748e09df69488b83e441259dee37b0"
      }
     },
     "c91a9e6aac1349cd830b1f4d34fffc4e": {
      "model_module": "@jupyter-widgets/base",
      "model_module_version": "1.2.0",
      "model_name": "LayoutModel",
      "state": {}
     },
     "cab02eed07ec4597b9861ae28277a6c5": {
      "model_module": "@jupyter-widgets/controls",
      "model_module_version": "1.5.0",
      "model_name": "FloatSliderModel",
      "state": {
       "description": "beta",
       "layout": "IPY_MODEL_0d56fb6718214a4dbdbac12acb5f7c14",
       "max": 0.9,
       "min": 0.3,
       "step": 0.05,
       "style": "IPY_MODEL_c5936c83ef544f918c523f0490e45b35",
       "value": 0.5
      }
     },
     "cbae7da043044ddf853a114a5234a600": {
      "model_module": "@jupyter-widgets/base",
      "model_module_version": "1.2.0",
      "model_name": "LayoutModel",
      "state": {}
     },
     "cc323fa902604588ac9ecc378e3c567c": {
      "model_module": "@jupyter-widgets/controls",
      "model_module_version": "1.5.0",
      "model_name": "VBoxModel",
      "state": {
       "_dom_classes": [
        "widget-interact"
       ],
       "children": [
        "IPY_MODEL_c8fe8eea07944aa38949788f42472530",
        "IPY_MODEL_13ab2e3dd6834c40a427ca1b3755e42f",
        "IPY_MODEL_e851a1d8c5024db697c7ff3df13aa3a6",
        "IPY_MODEL_eed8a5678deb4340ad0c9221becb560f"
       ],
       "layout": "IPY_MODEL_f88323d6f62a43809dca80cc706a0d9f"
      }
     },
     "cca306f6af2d4da888bba60f6f379453": {
      "model_module": "@jupyter-widgets/controls",
      "model_module_version": "1.5.0",
      "model_name": "SliderStyleModel",
      "state": {
       "description_width": ""
      }
     },
     "cceea17d9366498ab3825a4077810884": {
      "model_module": "@jupyter-widgets/controls",
      "model_module_version": "1.5.0",
      "model_name": "SliderStyleModel",
      "state": {
       "description_width": ""
      }
     },
     "cd6870a17b784a66923356fa98c1b437": {
      "model_module": "@jupyter-widgets/base",
      "model_module_version": "1.2.0",
      "model_name": "LayoutModel",
      "state": {}
     },
     "ce32c1a3e35b4e508d391701eac83d52": {
      "model_module": "@jupyter-widgets/base",
      "model_module_version": "1.2.0",
      "model_name": "LayoutModel",
      "state": {}
     },
     "cf26031919d04f6a8d67a18a80de9ce0": {
      "model_module": "@jupyter-widgets/controls",
      "model_module_version": "1.5.0",
      "model_name": "IntSliderModel",
      "state": {
       "description": "y0",
       "layout": "IPY_MODEL_62214f03a31c4581b406023653d0f332",
       "max": 200,
       "step": 5,
       "style": "IPY_MODEL_d33c9cd18415413c9fde34831e7c9042",
       "value": 135
      }
     },
     "d1c2614b23bd4f5999e5898b99aa0ce2": {
      "model_module": "@jupyter-widgets/controls",
      "model_module_version": "1.5.0",
      "model_name": "FloatSliderModel",
      "state": {
       "description": "rho",
       "layout": "IPY_MODEL_4bf4acccbc134b22befb59c888f905b3",
       "max": 4,
       "min": 0.5,
       "step": 0.1,
       "style": "IPY_MODEL_cca306f6af2d4da888bba60f6f379453",
       "value": 0.9
      }
     },
     "d2dc20647a7b4c34a899742d7d4a2359": {
      "model_module": "@jupyter-widgets/controls",
      "model_module_version": "1.5.0",
      "model_name": "DescriptionStyleModel",
      "state": {
       "description_width": ""
      }
     },
     "d33c9cd18415413c9fde34831e7c9042": {
      "model_module": "@jupyter-widgets/controls",
      "model_module_version": "1.5.0",
      "model_name": "SliderStyleModel",
      "state": {
       "description_width": ""
      }
     },
     "d48f6779619d4326a1ec8f652db0d904": {
      "model_module": "@jupyter-widgets/controls",
      "model_module_version": "1.5.0",
      "model_name": "SliderStyleModel",
      "state": {
       "description_width": ""
      }
     },
     "d50940b8db114c8ca4402473107edaa2": {
      "model_module": "@jupyter-widgets/base",
      "model_module_version": "1.2.0",
      "model_name": "LayoutModel",
      "state": {}
     },
     "d5330b8ce3984b21bb14cfbc76950fec": {
      "model_module": "@jupyter-widgets/output",
      "model_module_version": "1.0.0",
      "model_name": "OutputModel",
      "state": {
       "layout": "IPY_MODEL_7131d507375a418a95e01a975cea0e3a",
       "outputs": [
        {
         "data": {
          "image/png": "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\n",
          "text/plain": "<Figure size 720x576 with 2 Axes>"
         },
         "metadata": {
          "needs_background": "light"
         },
         "output_type": "display_data"
        },
        {
         "data": {
          "text/plain": "array([198.14, 199.99, 200.42, 200.61, 200.67, 200.65, 200.58, 200.47,\n       200.32, 200.14, 199.94, 199.72, 199.48, 199.22, 198.96, 198.68,\n       198.39, 198.08, 197.77, 197.45, 197.13])"
         },
         "metadata": {},
         "output_type": "display_data"
        }
       ]
      }
     },
     "d7370ef41aef42dfb3af9109ec8b18bb": {
      "model_module": "@jupyter-widgets/base",
      "model_module_version": "1.2.0",
      "model_name": "LayoutModel",
      "state": {}
     },
     "d83a414390344d06bcabdda796f2cda9": {
      "model_module": "@jupyter-widgets/controls",
      "model_module_version": "1.5.0",
      "model_name": "SliderStyleModel",
      "state": {
       "description_width": ""
      }
     },
     "d9a23db428fd4bfea112106b23b78fd2": {
      "model_module": "@jupyter-widgets/base",
      "model_module_version": "1.2.0",
      "model_name": "LayoutModel",
      "state": {}
     },
     "dabe381bcfe94091b2c7556816ec08a1": {
      "model_module": "@jupyter-widgets/controls",
      "model_module_version": "1.5.0",
      "model_name": "FloatSliderModel",
      "state": {
       "description": "beta",
       "layout": "IPY_MODEL_e75ea8b8fcbc4d12b04110d25e95912a",
       "max": 1,
       "min": 0.1,
       "step": 0.1,
       "style": "IPY_MODEL_d83a414390344d06bcabdda796f2cda9",
       "value": 0.5
      }
     },
     "dc8c3261861f400fa316d933ede728cd": {
      "model_module": "@jupyter-widgets/controls",
      "model_module_version": "1.5.0",
      "model_name": "IntSliderModel",
      "state": {
       "description": "y0",
       "layout": "IPY_MODEL_ae553dbf87244c03b7a1b3a050320b4e",
       "max": 200,
       "step": 10,
       "style": "IPY_MODEL_f32b561612174345bafb96bf21bacfa7",
       "value": 100
      }
     },
     "dcab913bd7f245eb8b84a78b8951e168": {
      "model_module": "@jupyter-widgets/controls",
      "model_module_version": "1.5.0",
      "model_name": "SliderStyleModel",
      "state": {
       "description_width": ""
      }
     },
     "dd7e6cff53f04649a491eabbe1d81810": {
      "model_module": "@jupyter-widgets/base",
      "model_module_version": "1.2.0",
      "model_name": "LayoutModel",
      "state": {}
     },
     "de6b5601d5374a89bd3a318183512b72": {
      "model_module": "@jupyter-widgets/output",
      "model_module_version": "1.0.0",
      "model_name": "OutputModel",
      "state": {
       "layout": "IPY_MODEL_773051de792546f2b6788281e80be0fa"
      }
     },
     "de7c828a69cc4920b13233d471283918": {
      "model_module": "@jupyter-widgets/controls",
      "model_module_version": "1.5.0",
      "model_name": "FloatSliderModel",
      "state": {
       "description": "rho",
       "layout": "IPY_MODEL_cbae7da043044ddf853a114a5234a600",
       "max": 4,
       "min": 0.5,
       "step": 0.1,
       "style": "IPY_MODEL_82bea9f4c4ef499ab28afb6a44cb0fb9",
       "value": 0.9
      }
     },
     "dfa19bf4bf5d4515bff9f1b0323514d7": {
      "model_module": "@jupyter-widgets/controls",
      "model_module_version": "1.5.0",
      "model_name": "SliderStyleModel",
      "state": {
       "description_width": ""
      }
     },
     "dfa88913cfe94cee86116697bc38cc55": {
      "model_module": "@jupyter-widgets/controls",
      "model_module_version": "1.5.0",
      "model_name": "FloatSliderModel",
      "state": {
       "description": "rho",
       "layout": "IPY_MODEL_43c845b3630b40dcb4cd814c8f668958",
       "max": 4,
       "min": 0.5,
       "step": 0.1,
       "style": "IPY_MODEL_9322157d26544ed4a8b39eba9c871911",
       "value": 0.9
      }
     },
     "e2582b253c1845abbe219bae68ba8738": {
      "model_module": "@jupyter-widgets/base",
      "model_module_version": "1.2.0",
      "model_name": "LayoutModel",
      "state": {}
     },
     "e260c01ee9e84dd0be9d032ef9d9bce9": {
      "model_module": "@jupyter-widgets/controls",
      "model_module_version": "1.5.0",
      "model_name": "SliderStyleModel",
      "state": {
       "description_width": ""
      }
     },
     "e34a822f309645d1bc53c56b0f94b93a": {
      "model_module": "@jupyter-widgets/controls",
      "model_module_version": "1.5.0",
      "model_name": "IntSliderModel",
      "state": {
       "description": "y0",
       "layout": "IPY_MODEL_b42dda0e1a4c40169e6c87ddb1cfba91",
       "max": 200,
       "step": 10,
       "style": "IPY_MODEL_f4cebc3932414d209b3bd042da649ae2",
       "value": 110
      }
     },
     "e5e206cfabaa4e8a9afee2c932da5308": {
      "model_module": "@jupyter-widgets/controls",
      "model_module_version": "1.5.0",
      "model_name": "SliderStyleModel",
      "state": {
       "description_width": ""
      }
     },
     "e656fe03cb2e47c6b6bc9d68e5818c3e": {
      "model_module": "@jupyter-widgets/base",
      "model_module_version": "1.2.0",
      "model_name": "LayoutModel",
      "state": {}
     },
     "e677757665634591a392bf3935ca6c4b": {
      "model_module": "@jupyter-widgets/controls",
      "model_module_version": "1.5.0",
      "model_name": "FloatSliderModel",
      "state": {
       "description": "beta",
       "layout": "IPY_MODEL_6ea514f51c4c42c5ba9b234aa5a7efa1",
       "max": 0.9,
       "min": 0.3,
       "step": 0.05,
       "style": "IPY_MODEL_6cd78f50a6b94cfc8c0ebccb0adf8938",
       "value": 0.5
      }
     },
     "e75ea8b8fcbc4d12b04110d25e95912a": {
      "model_module": "@jupyter-widgets/base",
      "model_module_version": "1.2.0",
      "model_name": "LayoutModel",
      "state": {}
     },
     "e780b9412a714be68dcae9d0c16a772a": {
      "model_module": "@jupyter-widgets/base",
      "model_module_version": "1.2.0",
      "model_name": "LayoutModel",
      "state": {}
     },
     "e7941d8b501244f68f4f62057380dcae": {
      "model_module": "@jupyter-widgets/controls",
      "model_module_version": "1.5.0",
      "model_name": "TextModel",
      "state": {
       "description": "figname",
       "layout": "IPY_MODEL_3da12765c02a4bd69f0a250e67536d1f",
       "style": "IPY_MODEL_b00551863e8c4345a07fd40ded06cf77",
       "value": "Figure"
      }
     },
     "e81b8f69d34c40768981f4c9b083e35b": {
      "model_module": "@jupyter-widgets/controls",
      "model_module_version": "1.5.0",
      "model_name": "CheckboxModel",
      "state": {
       "description": "rp",
       "disabled": false,
       "layout": "IPY_MODEL_2e4b9bdd238a45eebdabcfd0526c0381",
       "style": "IPY_MODEL_3253c30a4b6d4b04b63c517494aef0c7",
       "value": true
      }
     },
     "e851a1d8c5024db697c7ff3df13aa3a6": {
      "model_module": "@jupyter-widgets/controls",
      "model_module_version": "1.5.0",
      "model_name": "FloatSliderModel",
      "state": {
       "description": "rho",
       "layout": "IPY_MODEL_22b20da0df734c2489a3da2add342853",
       "max": 4,
       "min": 0.5,
       "step": 0.1,
       "style": "IPY_MODEL_9fa7db77dc604aaebf99cd6e92ae6789",
       "value": 0.9
      }
     },
     "e9784c11394a45e1840fdf05dca2f1c1": {
      "model_module": "@jupyter-widgets/base",
      "model_module_version": "1.2.0",
      "model_name": "LayoutModel",
      "state": {}
     },
     "e9b60b3a311649509fc77490e52cdc29": {
      "model_module": "@jupyter-widgets/controls",
      "model_module_version": "1.5.0",
      "model_name": "SliderStyleModel",
      "state": {
       "description_width": ""
      }
     },
     "ea503dc15f2d41d79db226453764d743": {
      "model_module": "@jupyter-widgets/controls",
      "model_module_version": "1.5.0",
      "model_name": "VBoxModel",
      "state": {
       "_dom_classes": [
        "widget-interact"
       ],
       "children": [
        "IPY_MODEL_e677757665634591a392bf3935ca6c4b",
        "IPY_MODEL_941bdcb0a5244d4f849c1beea5e01a0f",
        "IPY_MODEL_f4cee37b059344848db2f2dd2e37daf2",
        "IPY_MODEL_edb3dc76f8274607ba4706c1ee0234f1"
       ],
       "layout": "IPY_MODEL_40a08fff6c29427cac0b76a65e282ea2"
      }
     },
     "eab4a40a796943fdb2259741a7e7abb7": {
      "model_module": "@jupyter-widgets/controls",
      "model_module_version": "1.5.0",
      "model_name": "SliderStyleModel",
      "state": {
       "description_width": ""
      }
     },
     "edb3dc76f8274607ba4706c1ee0234f1": {
      "model_module": "@jupyter-widgets/output",
      "model_module_version": "1.0.0",
      "model_name": "OutputModel",
      "state": {
       "layout": "IPY_MODEL_ade0b93ddee047a1a097ab260a012ccd",
       "outputs": [
        {
         "name": "stdout",
         "output_type": "stream",
         "text": "autarky income = [135.   82.5  82.5]\n"
        },
        {
         "data": {
          "image/png": "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\n",
          "text/plain": "<Figure size 432x288 with 1 Axes>"
         },
         "metadata": {
          "needs_background": "light"
         },
         "output_type": "display_data"
        }
       ]
      }
     },
     "ee84cf6a60ff4992ac57efb0fc356352": {
      "model_module": "@jupyter-widgets/base",
      "model_module_version": "1.2.0",
      "model_name": "LayoutModel",
      "state": {}
     },
     "eed8a5678deb4340ad0c9221becb560f": {
      "model_module": "@jupyter-widgets/output",
      "model_module_version": "1.0.0",
      "model_name": "OutputModel",
      "state": {
       "layout": "IPY_MODEL_2a51eb5fe1734a22975de8209c90ba7b",
       "outputs": [
        {
         "data": {
          "image/png": "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\n",
          "text/plain": "<Figure size 720x576 with 2 Axes>"
         },
         "metadata": {
          "needs_background": "light"
         },
         "output_type": "display_data"
        },
        {
         "data": {
          "text/plain": "array([148.24, 148.91, 148.97, 148.91, 148.81, 148.67, 148.51, 148.32,\n       148.12, 147.91, 147.83, 147.83, 147.83, 147.83, 147.83, 147.83,\n       147.83, 147.83, 147.83, 147.83, 147.83])"
         },
         "metadata": {},
         "output_type": "display_data"
        }
       ]
      }
     },
     "efe379388dfc404ab85cf3d3cc7102dc": {
      "model_module": "@jupyter-widgets/controls",
      "model_module_version": "1.5.0",
      "model_name": "VBoxModel",
      "state": {
       "_dom_classes": [
        "widget-interact"
       ],
       "children": [
        "IPY_MODEL_30873fc14f204a3c9740e6747ef36abc",
        "IPY_MODEL_6fadbabbd7f04894b2bbb9db30e16490",
        "IPY_MODEL_9f287c10835e4c21b0bc5fc3eda566be",
        "IPY_MODEL_5b648330f0804c478579560a2b158bd2",
        "IPY_MODEL_4f2365c1a391481ba80922f00737cce2"
       ],
       "layout": "IPY_MODEL_2f7c6d2685db4596b726cab6a33056be"
      }
     },
     "f1c1db22c76547a79a86142cdc281f3e": {
      "model_module": "@jupyter-widgets/base",
      "model_module_version": "1.2.0",
      "model_name": "LayoutModel",
      "state": {}
     },
     "f1f1b2c8dd6d4f50aa28c6befec1e348": {
      "model_module": "@jupyter-widgets/controls",
      "model_module_version": "1.5.0",
      "model_name": "SliderStyleModel",
      "state": {
       "description_width": ""
      }
     },
     "f209834015e14b82962afcfe239461cf": {
      "model_module": "@jupyter-widgets/base",
      "model_module_version": "1.2.0",
      "model_name": "LayoutModel",
      "state": {}
     },
     "f3218223d9a94a1a920b75b4d1061278": {
      "model_module": "@jupyter-widgets/controls",
      "model_module_version": "1.5.0",
      "model_name": "VBoxModel",
      "state": {
       "_dom_classes": [
        "widget-interact"
       ],
       "children": [
        "IPY_MODEL_cab02eed07ec4597b9861ae28277a6c5",
        "IPY_MODEL_26415a587d4645839c774473a77f61d3",
        "IPY_MODEL_81de3ed9b4914b5bac93d6a3e5a47dd9",
        "IPY_MODEL_332000d48988411290e5148e1b2061be"
       ],
       "layout": "IPY_MODEL_31c34c2e252b45b3bfecc0eea7fc6dcd"
      }
     },
     "f32b561612174345bafb96bf21bacfa7": {
      "model_module": "@jupyter-widgets/controls",
      "model_module_version": "1.5.0",
      "model_name": "SliderStyleModel",
      "state": {
       "description_width": ""
      }
     },
     "f4cebc3932414d209b3bd042da649ae2": {
      "model_module": "@jupyter-widgets/controls",
      "model_module_version": "1.5.0",
      "model_name": "SliderStyleModel",
      "state": {
       "description_width": ""
      }
     },
     "f4cee37b059344848db2f2dd2e37daf2": {
      "model_module": "@jupyter-widgets/controls",
      "model_module_version": "1.5.0",
      "model_name": "IntSliderModel",
      "state": {
       "description": "y0",
       "layout": "IPY_MODEL_09f6fa34c2454495a9f3b0275556e706",
       "max": 200,
       "step": 5,
       "style": "IPY_MODEL_2a0fb3d49b294a0abcdcf22225ad3c73",
       "value": 135
      }
     },
     "f66e361a300247288784d80369faddd4": {
      "model_module": "@jupyter-widgets/base",
      "model_module_version": "1.2.0",
      "model_name": "LayoutModel",
      "state": {}
     },
     "f6f8349b11a04a759bd4f010083679d3": {
      "model_module": "@jupyter-widgets/output",
      "model_module_version": "1.0.0",
      "model_name": "OutputModel",
      "state": {
       "layout": "IPY_MODEL_86ba3f79ca364b57b30e2235ddda7340",
       "outputs": [
        {
         "name": "stdout",
         "output_type": "stream",
         "text": "autarky income = [100. 100. 100.]\n"
        },
        {
         "data": {
          "image/png": "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\n",
          "text/plain": "<Figure size 432x288 with 1 Axes>"
         },
         "metadata": {
          "needs_background": "light"
         },
         "output_type": "display_data"
        }
       ]
      }
     },
     "f75a858cfc1749b1861508dd00b78b17": {
      "model_module": "@jupyter-widgets/controls",
      "model_module_version": "1.5.0",
      "model_name": "FloatSliderModel",
      "state": {
       "description": "beta",
       "layout": "IPY_MODEL_cd6870a17b784a66923356fa98c1b437",
       "max": 0.9,
       "min": 0.3,
       "step": 0.05,
       "style": "IPY_MODEL_e9b60b3a311649509fc77490e52cdc29",
       "value": 0.5
      }
     },
     "f7ceea9d99824c2cac44da6a7c3d2d21": {
      "model_module": "@jupyter-widgets/controls",
      "model_module_version": "1.5.0",
      "model_name": "VBoxModel",
      "state": {
       "_dom_classes": [
        "widget-interact"
       ],
       "children": [
        "IPY_MODEL_42b9eee5de9c42eabb587c49b8d8bd1e",
        "IPY_MODEL_fe55f98f59e549338b6e7fabb4e75211"
       ],
       "layout": "IPY_MODEL_f209834015e14b82962afcfe239461cf"
      }
     },
     "f802aa6a4fe84e63a412cc1a14ae09ac": {
      "model_module": "@jupyter-widgets/base",
      "model_module_version": "1.2.0",
      "model_name": "LayoutModel",
      "state": {}
     },
     "f88323d6f62a43809dca80cc706a0d9f": {
      "model_module": "@jupyter-widgets/base",
      "model_module_version": "1.2.0",
      "model_name": "LayoutModel",
      "state": {}
     },
     "f928b163733f4dcab31dbd0c63517f17": {
      "model_module": "@jupyter-widgets/base",
      "model_module_version": "1.2.0",
      "model_name": "LayoutModel",
      "state": {}
     },
     "f9a98c83b4464b0eba707d2bdb17050d": {
      "model_module": "@jupyter-widgets/controls",
      "model_module_version": "1.5.0",
      "model_name": "VBoxModel",
      "state": {
       "_dom_classes": [
        "widget-interact"
       ],
       "children": [
        "IPY_MODEL_0217878333d444ce92d5290cf4b47289",
        "IPY_MODEL_bb5bd6cefe9c42d684e70d56a8f6f4e8",
        "IPY_MODEL_7da322a969b74e78ba7076ce78a691fc",
        "IPY_MODEL_dc8c3261861f400fa316d933ede728cd",
        "IPY_MODEL_09890dd3384c45fb94bb6a50cd795b14"
       ],
       "layout": "IPY_MODEL_9d3bdc3cb31f4443a8935c64febead4a"
      }
     },
     "f9cbab24ea104c5d877d268b8877b9ff": {
      "model_module": "@jupyter-widgets/controls",
      "model_module_version": "1.5.0",
      "model_name": "CheckboxModel",
      "state": {
       "description": "fc",
       "disabled": false,
       "layout": "IPY_MODEL_2f8add2a94294afbb9b597ccc43e6151",
       "style": "IPY_MODEL_5f8f041f05ab47f5bcbd619929d0e9b8",
       "value": true
      }
     },
     "fb2c4055e64d437d908db00cf76674a4": {
      "model_module": "@jupyter-widgets/controls",
      "model_module_version": "1.5.0",
      "model_name": "SliderStyleModel",
      "state": {
       "description_width": ""
      }
     },
     "fbe82804fbbe4eb0aad6ba601b517249": {
      "model_module": "@jupyter-widgets/controls",
      "model_module_version": "1.5.0",
      "model_name": "SliderStyleModel",
      "state": {
       "description_width": ""
      }
     },
     "fc798a8aa57b482bb333ccc2237a78b6": {
      "model_module": "@jupyter-widgets/controls",
      "model_module_version": "1.5.0",
      "model_name": "VBoxModel",
      "state": {
       "_dom_classes": [
        "widget-interact"
       ],
       "children": [
        "IPY_MODEL_05e79296d66b459c96faf4db6ef7d4d3",
        "IPY_MODEL_dfa88913cfe94cee86116697bc38cc55",
        "IPY_MODEL_23046b4773a044ddaf1d75cd8b215b93",
        "IPY_MODEL_f6f8349b11a04a759bd4f010083679d3"
       ],
       "layout": "IPY_MODEL_f66e361a300247288784d80369faddd4"
      }
     },
     "fd2f2cb28a5d4cab9aaddeea4710bf14": {
      "model_module": "@jupyter-widgets/controls",
      "model_module_version": "1.5.0",
      "model_name": "VBoxModel",
      "state": {
       "_dom_classes": [
        "widget-interact"
       ],
       "children": [
        "IPY_MODEL_dabe381bcfe94091b2c7556816ec08a1",
        "IPY_MODEL_a936c6cfc96441b1979557deb687fab8",
        "IPY_MODEL_f9cbab24ea104c5d877d268b8877b9ff",
        "IPY_MODEL_e81b8f69d34c40768981f4c9b083e35b",
        "IPY_MODEL_e7941d8b501244f68f4f62057380dcae",
        "IPY_MODEL_59ca9f24edce421db34d9747df4f8ad2"
       ],
       "layout": "IPY_MODEL_7b0541116a164f52b66e7d15285d9d4f"
      }
     },
     "fe55f98f59e549338b6e7fabb4e75211": {
      "model_module": "@jupyter-widgets/output",
      "model_module_version": "1.0.0",
      "model_name": "OutputModel",
      "state": {
       "layout": "IPY_MODEL_7a934cdb6ea24ae7b39b1c88bbf5c718"
      }
     },
     "fe863aca245447769a0991488eec019a": {
      "model_module": "@jupyter-widgets/base",
      "model_module_version": "1.2.0",
      "model_name": "LayoutModel",
      "state": {}
     },
     "ff1f79448d8346fa8cb3db214908fa3e": {
      "model_module": "@jupyter-widgets/base",
      "model_module_version": "1.2.0",
      "model_name": "LayoutModel",
      "state": {}
     },
     "ff5bf6d0a11e4e7a9c829d19e940e5e7": {
      "model_module": "@jupyter-widgets/base",
      "model_module_version": "1.2.0",
      "model_name": "LayoutModel",
      "state": {}
     },
     "ffa6c689ca7b4ee1846a3713c35c79fb": {
      "model_module": "@jupyter-widgets/base",
      "model_module_version": "1.2.0",
      "model_name": "LayoutModel",
      "state": {}
     }
    },
    "version_major": 2,
    "version_minor": 0
   }
  }
 },
 "nbformat": 4,
 "nbformat_minor": 2
}
